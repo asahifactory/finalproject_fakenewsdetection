{
 "cells": [
  {
   "cell_type": "code",
   "execution_count": 1,
   "id": "12c8659f",
   "metadata": {},
   "outputs": [],
   "source": [
    "import numpy as np\n",
    "import pandas as pd\n",
    "import re\n",
    "\n",
    "# Plotting and Metrics imports\n",
    "import matplotlib.pyplot as plt\n",
    "from sklearn.metrics import classification_report, accuracy_score\n",
    "\n",
    "# Data Processing imports\n",
    "from sklearn.model_selection import train_test_split\n",
    "import re, nltk\n",
    "from nltk.corpus import stopwords\n",
    "from nltk.stem import WordNetLemmatizer\n",
    "# nltk.download('stopwords')\n",
    "# nltk.download('wordnet')\n",
    "\n",
    "# Feature Extraction imports\n",
    "from sklearn.feature_extraction.text import CountVectorizer\n",
    "from sklearn.feature_extraction.text import TfidfVectorizer\n",
    "from sklearn.neighbors import KNeighborsClassifier\n",
    "\n",
    "# Doc2Vec imports\n",
    "import gensim\n",
    "from gensim.models.doc2vec import Doc2Vec, TaggedDocument\n",
    "from nltk.tokenize import word_tokenize\n",
    "\n",
    "# Models imports\n",
    "from sklearn.tree import DecisionTreeClassifier\n",
    "from sklearn.ensemble import RandomForestClassifier\n",
    "from sklearn.svm import SVC\n",
    "from sklearn.neighbors import KNeighborsClassifier"
   ]
  },
  {
   "cell_type": "markdown",
   "id": "8e053f84",
   "metadata": {},
   "source": [
    "## ISOT dataset"
   ]
  },
  {
   "cell_type": "code",
   "execution_count": 2,
   "id": "13fd5bb1",
   "metadata": {},
   "outputs": [],
   "source": [
    "# Load the datasets\n",
    "fake_df = pd.read_csv('03isot/Fake.csv')\n",
    "true_df = pd.read_csv('03isot/True.csv')\n",
    "\n",
    "fake_df['label'] = 'fake'\n",
    "true_df['label'] = 'true'\n",
    "\n",
    "isot_df = pd.concat([fake_df, true_df], axis=0, ignore_index=True)\n",
    "isot_df = isot_df[['text', 'label']]\n",
    "\n",
    "isot_df = isot_df.sample(frac=1).reset_index(drop=True)\n",
    "\n",
    "isot_train, isot_valid = train_test_split(isot_df, test_size=0.2, stratify=isot_df['label'], random_state=42)\n",
    "\n",
    "isot_train = isot_train.rename(columns={\"Text\": \"Statement\"})\n",
    "isot_valid = isot_valid.rename(columns={\"Text\": \"Statement\"})\n"
   ]
  },
  {
   "cell_type": "code",
   "execution_count": 3,
   "id": "24a520b5",
   "metadata": {},
   "outputs": [
    {
     "name": "stdout",
     "output_type": "stream",
     "text": [
      "                                                text label\n",
      "0  One more Republican doing his part to aid Obam...  fake\n",
      "1  With the death of a Supreme Court Justice many...  fake\n",
      "2  WASHINGTON/NEW YORK (Reuters) - President-elec...  true\n",
      "3  WASHINGTON (Reuters) - Democratic state offici...  true\n",
      "4  REMEMBER THE OBAMAPHONE LADY? Federal regulato...  fake\n"
     ]
    }
   ],
   "source": [
    "print(isot_df.head())"
   ]
  },
  {
   "cell_type": "code",
   "execution_count": 4,
   "id": "bb722702",
   "metadata": {},
   "outputs": [],
   "source": [
    "# to re-use the code from LIAR, rename \"text\" to \"Statement\", matching what we have in the LIAR set\n",
    "isot_train = isot_train.rename(columns={\"text\": \"Statement\"})\n",
    "isot_valid = isot_valid.rename(columns={\"text\": \"Statement\"})\n",
    "isot_train = isot_train.rename(columns={\"label\": \"Label\"})\n",
    "isot_valid = isot_valid.rename(columns={\"label\": \"Label\"})\n"
   ]
  },
  {
   "cell_type": "code",
   "execution_count": 5,
   "id": "650bd897",
   "metadata": {},
   "outputs": [
    {
     "name": "stdout",
     "output_type": "stream",
     "text": [
      "                                               Statement Label\n",
      "14916  FRANKFURT (Reuters) - Germany’s largest bank h...  true\n",
      "7974   ALMATY (Reuters) - The sister of the Uzbek imm...  true\n",
      "16592  Tennessee Titans  Delanie Walker just turned o...  fake\n",
      "29653  Neil Gorsuch, President Donald Trump’s appoint...  true\n",
      "44894  BEIJING (Reuters) - A Beijing court on Tuesday...  true\n"
     ]
    }
   ],
   "source": [
    "print(isot_valid.head())"
   ]
  },
  {
   "cell_type": "markdown",
   "id": "05f545d0",
   "metadata": {},
   "source": [
    "#### Study the dataset (ISOT)"
   ]
  },
  {
   "cell_type": "code",
   "execution_count": 6,
   "id": "0dea1b76",
   "metadata": {},
   "outputs": [
    {
     "data": {
      "image/png": "[encoded data removed]",
      "text/plain": [
       "<Figure size 432x288 with 1 Axes>"
      ]
     },
     "metadata": {
      "needs_background": "light"
     },
     "output_type": "display_data"
    }
   ],
   "source": [
    "# Distribution\n",
    "\n",
    "# Plotting the distribution of labels in the training set\n",
    "isot_train['Label'].value_counts().plot(kind='bar', color='skyblue')\n",
    "plt.title('Distribution of Labels in ISOT Training Set')\n",
    "plt.xlabel('Labels')\n",
    "plt.ylabel('Number of Articles')\n",
    "plt.show()"
   ]
  },
  {
   "cell_type": "code",
   "execution_count": 7,
   "id": "8acee1b7",
   "metadata": {},
   "outputs": [
    {
     "name": "stdout",
     "output_type": "stream",
     "text": [
      "Missing values in ISOT Training Set:\n",
      "Statement    0\n",
      "Label        0\n",
      "dtype: int64\n"
     ]
    }
   ],
   "source": [
    "# Missing value\n",
    "\n",
    "# Display the number of missing values for each column in the training set\n",
    "missing_values = isot_train.isnull().sum()\n",
    "print(\"Missing values in ISOT Training Set:\")\n",
    "print(missing_values)\n"
   ]
  },
  {
   "cell_type": "markdown",
   "id": "1ba13653",
   "metadata": {},
   "source": [
    "### Data Preprocessing"
   ]
  },
  {
   "cell_type": "code",
   "execution_count": 8,
   "id": "6a86573a",
   "metadata": {},
   "outputs": [],
   "source": [
    "# Data Preprocessing\n",
    "\n",
    "lemmatizer = WordNetLemmatizer()\n",
    "stop_words = set(stopwords.words('english'))\n",
    "\n",
    "def normalize_text(text):\n",
    "    # Convert to lowercase\n",
    "    text = text.lower()\n",
    "    # Remove special characters and digits\n",
    "    text = re.sub(r'[^a-zA-Z\\s]', '', text, re.I | re.A)\n",
    "    # Remove stopwords and lemmatize\n",
    "    text = ' '.join(lemmatizer.lemmatize(token) for token in text.split() if token not in stop_words)\n",
    "    return text\n",
    "\n",
    "isot_train['Statement'] = isot_train['Statement'].apply(normalize_text)\n",
    "isot_valid['Statement'] = isot_valid['Statement'].apply(normalize_text)\n",
    "\n",
    "def map_labels(label):\n",
    "    true_labels = [\"true\", \"mostly-true\", \"half-true\"]\n",
    "    return \"true\" if label in true_labels else \"fake\"\n",
    "\n",
    "isot_train['Label'] = isot_train['Label'].apply(map_labels)\n",
    "isot_valid['Label'] = isot_valid['Label'].apply(map_labels)"
   ]
  },
  {
   "cell_type": "code",
   "execution_count": 9,
   "id": "8172f1b0",
   "metadata": {},
   "outputs": [
    {
     "name": "stdout",
     "output_type": "stream",
     "text": [
      "                                               Statement Label\n",
      "29802  washington reuters u president donald trump de...  true\n",
      "14622  tokyo reuters japanese prime minister shinzo a...  true\n",
      "34655  father robert sirico president cofounder acton...  fake\n",
      "4089   madrid reuters topless activist feminist group...  true\n",
      "19352  washington reuters u justice department friday...  true\n"
     ]
    }
   ],
   "source": [
    "print(isot_train.head())"
   ]
  },
  {
   "cell_type": "code",
   "execution_count": 10,
   "id": "9f92be68",
   "metadata": {},
   "outputs": [
    {
     "name": "stdout",
     "output_type": "stream",
     "text": [
      "Index(['Statement', 'Label'], dtype='object')\n"
     ]
    }
   ],
   "source": [
    "print(isot_train.columns)"
   ]
  },
  {
   "cell_type": "code",
   "execution_count": 11,
   "id": "7f6e8656",
   "metadata": {},
   "outputs": [
    {
     "name": "stdout",
     "output_type": "stream",
     "text": [
      "Shape of BoW training data: (35918, 5000)\n",
      "Shape of BoW validation data: (8980, 5000)\n"
     ]
    }
   ],
   "source": [
    "# BoW\n",
    "\n",
    "# Initialize the CountVectorizer\n",
    "vectorizer = CountVectorizer(stop_words='english', max_features=5000)  # Limiting to 5000 most frequent words for simplicity\n",
    "\n",
    "# Fit and transform the training data from LIAR dataset\n",
    "X_train_bow = vectorizer.fit_transform(isot_train['Statement'])\n",
    "\n",
    "# Transform the validation and test data\n",
    "X_valid_bow = vectorizer.transform(isot_valid['Statement'])\n",
    "\n",
    "# Print some information\n",
    "print(f\"Shape of BoW training data: {X_train_bow.shape}\")\n",
    "print(f\"Shape of BoW validation data: {X_valid_bow.shape}\")\n",
    "\n",
    "y_train = isot_train['Label']\n",
    "y_valid = isot_valid['Label']\n"
   ]
  },
  {
   "cell_type": "code",
   "execution_count": 12,
   "id": "26b1f23d",
   "metadata": {},
   "outputs": [
    {
     "name": "stdout",
     "output_type": "stream",
     "text": [
      "Validation Accuracy: 99.42%\n",
      "\n",
      "Classification Report:\n",
      "              precision    recall  f1-score   support\n",
      "\n",
      "        fake       0.99      0.99      0.99      4696\n",
      "        true       0.99      0.99      0.99      4284\n",
      "\n",
      "    accuracy                           0.99      8980\n",
      "   macro avg       0.99      0.99      0.99      8980\n",
      "weighted avg       0.99      0.99      0.99      8980\n",
      "\n"
     ]
    }
   ],
   "source": [
    "# BoW + Decision Tree\n",
    "\n",
    "# Initialize the Decision Tree Classifier\n",
    "clf_tree = DecisionTreeClassifier()\n",
    "\n",
    "# Train the classifier using the training data\n",
    "clf_tree.fit(X_train_bow, y_train)\n",
    "\n",
    "# Predict on the validation set\n",
    "y_pred_tree = clf_tree.predict(X_valid_bow)\n",
    "\n",
    "# Evaluate the performance\n",
    "accuracy_tree = accuracy_score(y_valid, y_pred_tree)\n",
    "print(f\"Validation Accuracy: {accuracy_tree * 100:.2f}%\\n\")\n",
    "print(\"Classification Report:\")\n",
    "print(classification_report(y_valid, y_pred_tree))\n"
   ]
  },
  {
   "cell_type": "code",
   "execution_count": 13,
   "id": "ed92b3d0",
   "metadata": {},
   "outputs": [
    {
     "name": "stdout",
     "output_type": "stream",
     "text": [
      "Validation Accuracy: 99.67%\n",
      "\n",
      "Classification Report:\n",
      "              precision    recall  f1-score   support\n",
      "\n",
      "        fake       1.00      1.00      1.00      4696\n",
      "        true       1.00      1.00      1.00      4284\n",
      "\n",
      "    accuracy                           1.00      8980\n",
      "   macro avg       1.00      1.00      1.00      8980\n",
      "weighted avg       1.00      1.00      1.00      8980\n",
      "\n"
     ]
    }
   ],
   "source": [
    "# BoW + Random Froest\n",
    "\n",
    "# Initialize the Random Forest Classifier\n",
    "clf_rf = RandomForestClassifier()\n",
    "\n",
    "# Train the classifier using the training data\n",
    "clf_rf.fit(X_train_bow, y_train)\n",
    "\n",
    "# Predict on the validation set\n",
    "y_pred_rf = clf_rf.predict(X_valid_bow)\n",
    "\n",
    "# Evaluate the performance\n",
    "accuracy_rf = accuracy_score(y_valid, y_pred_rf)\n",
    "print(f\"Validation Accuracy: {accuracy_rf * 100:.2f}%\\n\")\n",
    "print(\"Classification Report:\")\n",
    "print(classification_report(y_valid, y_pred_rf))\n"
   ]
  },
  {
   "cell_type": "code",
   "execution_count": 14,
   "id": "063ac099",
   "metadata": {},
   "outputs": [
    {
     "name": "stdout",
     "output_type": "stream",
     "text": [
      "Validation Accuracy for SVM with BoW: 99.35%\n",
      "\n",
      "Classification Report for SVM with BoW:\n",
      "              precision    recall  f1-score   support\n",
      "\n",
      "        fake       0.99      0.99      0.99      4696\n",
      "        true       0.99      0.99      0.99      4284\n",
      "\n",
      "    accuracy                           0.99      8980\n",
      "   macro avg       0.99      0.99      0.99      8980\n",
      "weighted avg       0.99      0.99      0.99      8980\n",
      "\n"
     ]
    }
   ],
   "source": [
    "#BoW + SVM\n",
    "\n",
    "# Initialize the SVM Classifier\n",
    "clf_svm_bow = SVC(kernel='linear', probability=True)\n",
    "\n",
    "# Train the classifier using the BoW training data\n",
    "clf_svm_bow.fit(X_train_bow, y_train)\n",
    "\n",
    "# Predict on the validation set\n",
    "y_pred_svm_bow = clf_svm_bow.predict(X_valid_bow)\n",
    "\n",
    "# Evaluate the performance\n",
    "accuracy_svm_bow = accuracy_score(y_valid, y_pred_svm_bow)\n",
    "print(f\"Validation Accuracy for SVM with BoW: {accuracy_svm_bow * 100:.2f}%\\n\")\n",
    "print(\"Classification Report for SVM with BoW:\")\n",
    "print(classification_report(y_valid, y_pred_svm_bow))\n"
   ]
  },
  {
   "cell_type": "code",
   "execution_count": 15,
   "id": "bda0771a",
   "metadata": {},
   "outputs": [
    {
     "name": "stdout",
     "output_type": "stream",
     "text": [
      "Validation Accuracy for KNN with BoW: 83.12%\n",
      "\n",
      "Classification Report for KNN with BoW:\n",
      "              precision    recall  f1-score   support\n",
      "\n",
      "        fake       0.84      0.83      0.84      4696\n",
      "        true       0.82      0.83      0.82      4284\n",
      "\n",
      "    accuracy                           0.83      8980\n",
      "   macro avg       0.83      0.83      0.83      8980\n",
      "weighted avg       0.83      0.83      0.83      8980\n",
      "\n"
     ]
    }
   ],
   "source": [
    "#BoW + KNN neighbours 5\n",
    "\n",
    "# Initialize the KNN Classifier\n",
    "clf_knn_bow = KNeighborsClassifier(n_neighbors=5)  # You can tune the 'n_neighbors' parameter\n",
    "\n",
    "# Train the classifier using the BoW training data\n",
    "clf_knn_bow.fit(X_train_bow, y_train)\n",
    "\n",
    "# Predict on the validation set\n",
    "y_pred_knn_bow = clf_knn_bow.predict(X_valid_bow)\n",
    "\n",
    "# Evaluate the performance\n",
    "accuracy_knn_bow = accuracy_score(y_valid, y_pred_knn_bow)\n",
    "print(f\"Validation Accuracy for KNN with BoW: {accuracy_knn_bow * 100:.2f}%\\n\")\n",
    "print(\"Classification Report for KNN with BoW:\")\n",
    "print(classification_report(y_valid, y_pred_knn_bow))\n"
   ]
  },
  {
   "cell_type": "code",
   "execution_count": 16,
   "id": "6d66daba",
   "metadata": {},
   "outputs": [],
   "source": [
    "# TF-IDF\n",
    "\n",
    "# Initialize the TF-IDF vectorizer\n",
    "tfidf_vectorizer = TfidfVectorizer(max_features=5000, stop_words='english', ngram_range=(1,2))\n",
    "\n",
    "# Fit and transform the training data\n",
    "X_train_tfidf = tfidf_vectorizer.fit_transform(isot_train['Statement'])\n",
    "\n",
    "# Transform the validation data\n",
    "X_valid_tfidf = tfidf_vectorizer.transform(isot_valid['Statement'])\n"
   ]
  },
  {
   "cell_type": "code",
   "execution_count": 17,
   "id": "c49a6c34",
   "metadata": {},
   "outputs": [
    {
     "name": "stdout",
     "output_type": "stream",
     "text": [
      "Validation Accuracy: 99.42%\n",
      "\n",
      "Classification Report:\n",
      "              precision    recall  f1-score   support\n",
      "\n",
      "        fake       0.99      1.00      0.99      4696\n",
      "        true       0.99      0.99      0.99      4284\n",
      "\n",
      "    accuracy                           0.99      8980\n",
      "   macro avg       0.99      0.99      0.99      8980\n",
      "weighted avg       0.99      0.99      0.99      8980\n",
      "\n"
     ]
    }
   ],
   "source": [
    "# TF-IDF + Decision Tree\n",
    "\n",
    "# Initialize the Decision Tree Classifier\n",
    "clf_tree_tfidf = DecisionTreeClassifier()\n",
    "\n",
    "# Train the classifier using the training data\n",
    "clf_tree_tfidf.fit(X_train_tfidf, y_train)\n",
    "\n",
    "# Predict on the validation set\n",
    "y_pred_tree_tfidf = clf_tree_tfidf.predict(X_valid_tfidf)\n",
    "\n",
    "# Evaluate the performance\n",
    "accuracy_tree_tfidf = accuracy_score(y_valid, y_pred_tree_tfidf)\n",
    "print(f\"Validation Accuracy: {accuracy_tree_tfidf * 100:.2f}%\\n\")\n",
    "print(\"Classification Report:\")\n",
    "print(classification_report(y_valid, y_pred_tree_tfidf))\n"
   ]
  },
  {
   "cell_type": "code",
   "execution_count": 18,
   "id": "60d46a6e",
   "metadata": {},
   "outputs": [
    {
     "name": "stdout",
     "output_type": "stream",
     "text": [
      "Validation Accuracy: 99.65%\n",
      "\n",
      "Classification Report:\n",
      "              precision    recall  f1-score   support\n",
      "\n",
      "        fake       1.00      1.00      1.00      4696\n",
      "        true       0.99      1.00      1.00      4284\n",
      "\n",
      "    accuracy                           1.00      8980\n",
      "   macro avg       1.00      1.00      1.00      8980\n",
      "weighted avg       1.00      1.00      1.00      8980\n",
      "\n"
     ]
    }
   ],
   "source": [
    "# TF-IDF + random forest\n",
    "\n",
    "# Initialize the Random Forest Classifier\n",
    "clf_rf = RandomForestClassifier(n_estimators=100)\n",
    "\n",
    "# Train the classifier using the training data\n",
    "clf_rf.fit(X_train_tfidf, y_train)\n",
    "\n",
    "# Predict on the validation set\n",
    "y_pred_rf = clf_rf.predict(X_valid_tfidf)\n",
    "\n",
    "# Evaluate the performance\n",
    "accuracy_rf = accuracy_score(y_valid, y_pred_rf)\n",
    "print(f\"Validation Accuracy: {accuracy_rf * 100:.2f}%\\n\")\n",
    "print(\"Classification Report:\")\n",
    "print(classification_report(y_valid, y_pred_rf))\n"
   ]
  },
  {
   "cell_type": "code",
   "execution_count": 19,
   "id": "25907816",
   "metadata": {},
   "outputs": [
    {
     "name": "stdout",
     "output_type": "stream",
     "text": [
      "Validation Accuracy: 99.42%\n",
      "\n",
      "Classification Report:\n",
      "              precision    recall  f1-score   support\n",
      "\n",
      "        fake       1.00      0.99      0.99      4696\n",
      "        true       0.99      1.00      0.99      4284\n",
      "\n",
      "    accuracy                           0.99      8980\n",
      "   macro avg       0.99      0.99      0.99      8980\n",
      "weighted avg       0.99      0.99      0.99      8980\n",
      "\n"
     ]
    }
   ],
   "source": [
    "# TF-IDF + SVM\n",
    "\n",
    "# Initialize the SVC classifier with a linear kernel\n",
    "clf_svc = SVC(kernel='linear')\n",
    "\n",
    "# Train the classifier using the training data\n",
    "clf_svc.fit(X_train_tfidf, y_train)\n",
    "\n",
    "# Predict on the validation set\n",
    "y_pred_svc = clf_svc.predict(X_valid_tfidf)\n",
    "\n",
    "# Evaluate the performance\n",
    "accuracy_svc = accuracy_score(y_valid, y_pred_svc)\n",
    "print(f\"Validation Accuracy: {accuracy_svc * 100:.2f}%\\n\")\n",
    "print(\"Classification Report:\")\n",
    "print(classification_report(y_valid, y_pred_svc))\n"
   ]
  },
  {
   "cell_type": "code",
   "execution_count": 20,
   "id": "5f358b84",
   "metadata": {},
   "outputs": [
    {
     "name": "stdout",
     "output_type": "stream",
     "text": [
      "Validation Accuracy: 72.57%\n",
      "\n",
      "Classification Report:\n",
      "              precision    recall  f1-score   support\n",
      "\n",
      "        fake       0.66      0.98      0.79      4696\n",
      "        true       0.95      0.45      0.61      4284\n",
      "\n",
      "    accuracy                           0.73      8980\n",
      "   macro avg       0.80      0.71      0.70      8980\n",
      "weighted avg       0.80      0.73      0.70      8980\n",
      "\n"
     ]
    }
   ],
   "source": [
    "# TF-IDF + KNN neighbours 5 \n",
    "\n",
    "# Initialize the KNN classifier\n",
    "# You can tune the number of neighbors (n_neighbors parameter) as needed.\n",
    "clf_knn = KNeighborsClassifier(n_neighbors=5)\n",
    "\n",
    "# Train the classifier using the training data\n",
    "clf_knn.fit(X_train_tfidf, y_train)\n",
    "\n",
    "# Predict on the validation set\n",
    "y_pred_knn = clf_knn.predict(X_valid_tfidf)\n",
    "\n",
    "# Evaluate the performance\n",
    "accuracy_knn = accuracy_score(y_valid, y_pred_knn)\n",
    "print(f\"Validation Accuracy: {accuracy_knn * 100:.2f}%\\n\")\n",
    "print(\"Classification Report:\")\n",
    "print(classification_report(y_valid, y_pred_knn))\n"
   ]
  },
  {
   "cell_type": "code",
   "execution_count": 21,
   "id": "2a983786",
   "metadata": {},
   "outputs": [],
   "source": [
    "# N-gram Representation\n",
    "\n",
    "# Initialize CountVectorizer with ngram range for unigrams and bigrams\n",
    "vectorizer = CountVectorizer(ngram_range=(1, 2))\n",
    "\n",
    "# Fit and transform the training data\n",
    "X_train_ngram = vectorizer.fit_transform(isot_train['Statement'])\n",
    "\n",
    "# Transform the validation data\n",
    "X_valid_ngram = vectorizer.transform(isot_valid['Statement'])\n",
    "\n",
    "# Now you can train your models on the X_train_ngram and evaluate on X_valid_ngram\n"
   ]
  },
  {
   "cell_type": "code",
   "execution_count": 22,
   "id": "bdcf21fb",
   "metadata": {},
   "outputs": [
    {
     "name": "stdout",
     "output_type": "stream",
     "text": [
      "Validation Accuracy using n-grams: 99.55%\n",
      "\n",
      "Classification Report for n-grams:\n",
      "              precision    recall  f1-score   support\n",
      "\n",
      "        fake       1.00      0.99      1.00      4696\n",
      "        true       0.99      1.00      1.00      4284\n",
      "\n",
      "    accuracy                           1.00      8980\n",
      "   macro avg       1.00      1.00      1.00      8980\n",
      "weighted avg       1.00      1.00      1.00      8980\n",
      "\n"
     ]
    }
   ],
   "source": [
    "# N-gram + Decision Tree\n",
    "\n",
    "# Initialize the Decision Tree Classifier\n",
    "clf_tree_ngram = DecisionTreeClassifier()\n",
    "\n",
    "# Train the classifier using the n-gram training data\n",
    "clf_tree_ngram.fit(X_train_ngram, y_train)\n",
    "\n",
    "# Predict on the validation set\n",
    "y_pred_tree_ngram = clf_tree_ngram.predict(X_valid_ngram)\n",
    "\n",
    "# Evaluate the performance\n",
    "accuracy_tree_ngram = accuracy_score(y_valid, y_pred_tree_ngram)\n",
    "print(f\"Validation Accuracy using n-grams: {accuracy_tree_ngram * 100:.2f}%\\n\")\n",
    "print(\"Classification Report for n-grams:\")\n",
    "print(classification_report(y_valid, y_pred_tree_ngram))\n"
   ]
  },
  {
   "cell_type": "code",
   "execution_count": 23,
   "id": "6ed35e82",
   "metadata": {},
   "outputs": [
    {
     "name": "stdout",
     "output_type": "stream",
     "text": [
      "Validation Accuracy using n-grams with Random Forest: 98.47%\n",
      "\n",
      "Classification Report for n-grams with Random Forest:\n",
      "              precision    recall  f1-score   support\n",
      "\n",
      "        fake       0.99      0.98      0.99      4696\n",
      "        true       0.98      0.99      0.98      4284\n",
      "\n",
      "    accuracy                           0.98      8980\n",
      "   macro avg       0.98      0.98      0.98      8980\n",
      "weighted avg       0.98      0.98      0.98      8980\n",
      "\n"
     ]
    }
   ],
   "source": [
    "# N-gram + Random Forest\n",
    "\n",
    "# Initialize the Random Forest Classifier\n",
    "clf_rf_ngram = RandomForestClassifier()\n",
    "\n",
    "# Train the classifier using the n-gram training data\n",
    "clf_rf_ngram.fit(X_train_ngram, y_train)\n",
    "\n",
    "# Predict on the validation set\n",
    "y_pred_rf_ngram = clf_rf_ngram.predict(X_valid_ngram)\n",
    "\n",
    "# Evaluate the performance\n",
    "accuracy_rf_ngram = accuracy_score(y_valid, y_pred_rf_ngram)\n",
    "print(f\"Validation Accuracy using n-grams with Random Forest: {accuracy_rf_ngram * 100:.2f}%\\n\")\n",
    "print(\"Classification Report for n-grams with Random Forest:\")\n",
    "print(classification_report(y_valid, y_pred_rf_ngram))\n"
   ]
  },
  {
   "cell_type": "code",
   "execution_count": 24,
   "id": "f3e6448b",
   "metadata": {},
   "outputs": [
    {
     "name": "stdout",
     "output_type": "stream",
     "text": [
      "Validation Accuracy using n-grams with SVM: 99.64%\n",
      "\n",
      "Classification Report for n-grams with SVM:\n",
      "              precision    recall  f1-score   support\n",
      "\n",
      "        fake       1.00      1.00      1.00      4696\n",
      "        true       1.00      1.00      1.00      4284\n",
      "\n",
      "    accuracy                           1.00      8980\n",
      "   macro avg       1.00      1.00      1.00      8980\n",
      "weighted avg       1.00      1.00      1.00      8980\n",
      "\n"
     ]
    }
   ],
   "source": [
    "# N-gram + SVM\n",
    "\n",
    "# Initialize the SVM classifier with a linear kernel\n",
    "clf_svm_ngram = SVC(kernel='linear')\n",
    "\n",
    "# Train the classifier using the n-gram training data\n",
    "clf_svm_ngram.fit(X_train_ngram, y_train)\n",
    "\n",
    "# Predict on the validation set\n",
    "y_pred_svm_ngram = clf_svm_ngram.predict(X_valid_ngram)\n",
    "\n",
    "# Evaluate the performance\n",
    "accuracy_svm_ngram = accuracy_score(y_valid, y_pred_svm_ngram)\n",
    "print(f\"Validation Accuracy using n-grams with SVM: {accuracy_svm_ngram * 100:.2f}%\\n\")\n",
    "print(\"Classification Report for n-grams with SVM:\")\n",
    "print(classification_report(y_valid, y_pred_svm_ngram))\n"
   ]
  },
  {
   "cell_type": "code",
   "execution_count": 25,
   "id": "827f2885",
   "metadata": {},
   "outputs": [
    {
     "name": "stdout",
     "output_type": "stream",
     "text": [
      "Validation Accuracy using n-grams with KNN: 73.82%\n",
      "\n",
      "Classification Report for n-grams with KNN:\n",
      "              precision    recall  f1-score   support\n",
      "\n",
      "        fake       0.70      0.88      0.78      4696\n",
      "        true       0.82      0.58      0.68      4284\n",
      "\n",
      "    accuracy                           0.74      8980\n",
      "   macro avg       0.76      0.73      0.73      8980\n",
      "weighted avg       0.75      0.74      0.73      8980\n",
      "\n"
     ]
    }
   ],
   "source": [
    "# N-gram + k-NN n=5\n",
    "\n",
    "# Initialize the KNN classifier with 5 neighbors\n",
    "clf_knn_ngram = KNeighborsClassifier(n_neighbors=5)\n",
    "\n",
    "# Train the classifier using the n-gram training data\n",
    "clf_knn_ngram.fit(X_train_ngram, y_train)\n",
    "\n",
    "# Predict on the validation set\n",
    "y_pred_knn_ngram = clf_knn_ngram.predict(X_valid_ngram)\n",
    "\n",
    "# Evaluate the performance\n",
    "accuracy_knn_ngram = accuracy_score(y_valid, y_pred_knn_ngram)\n",
    "print(f\"Validation Accuracy using n-grams with KNN: {accuracy_knn_ngram * 100:.2f}%\\n\")\n",
    "print(\"Classification Report for n-grams with KNN:\")\n",
    "print(classification_report(y_valid, y_pred_knn_ngram))\n"
   ]
  },
  {
   "cell_type": "code",
   "execution_count": 26,
   "id": "62f95eb4",
   "metadata": {},
   "outputs": [],
   "source": [
    "# Doc2Vec\n",
    "\n",
    "articles_tokenized = [word_tokenize(article.lower()) for article in isot_train['Statement']]\n",
    "\n",
    "tagged_data = [TaggedDocument(words=words, tags=[str(i)]) for i, words in enumerate(articles_tokenized)]\n",
    "\n",
    "model = Doc2Vec(vector_size=20, window=2, min_count=1, workers=4, epochs=100)\n",
    "model.build_vocab(tagged_data)\n",
    "model.train(tagged_data, total_examples=model.corpus_count, epochs=model.epochs)\n",
    "\n",
    "# Get vector for the first document as an example\n",
    "vector = model.infer_vector(articles_tokenized[0])\n",
    "\n",
    "# Transform the training statements into vectors\n",
    "X_train_d2v = [model.infer_vector(words) for words in articles_tokenized]\n",
    "\n",
    "# Transform the validation statements into vectors\n",
    "statements_tokenized_valid = [word_tokenize(statement.lower()) for statement in isot_valid['Statement']]\n",
    "X_valid_d2v = [model.infer_vector(words) for words in statements_tokenized_valid]"
   ]
  },
  {
   "cell_type": "code",
   "execution_count": 27,
   "id": "016dc5cf",
   "metadata": {},
   "outputs": [
    {
     "name": "stdout",
     "output_type": "stream",
     "text": [
      "Validation Accuracy: 92.73%\n",
      "\n",
      "Classification Report:\n",
      "              precision    recall  f1-score   support\n",
      "\n",
      "        fake       0.93      0.93      0.93      4696\n",
      "        true       0.93      0.92      0.92      4284\n",
      "\n",
      "    accuracy                           0.93      8980\n",
      "   macro avg       0.93      0.93      0.93      8980\n",
      "weighted avg       0.93      0.93      0.93      8980\n",
      "\n"
     ]
    }
   ],
   "source": [
    "# Doc2Vec + Decision Trees\n",
    "\n",
    "# Initialize the DecisionTree classifier\n",
    "clf_dt = DecisionTreeClassifier(random_state=0)\n",
    "\n",
    "# Train the classifier using the training data\n",
    "clf_dt.fit(X_train_d2v, y_train)\n",
    "\n",
    "# Predict on the validation set\n",
    "y_pred_dt = clf_dt.predict(X_valid_d2v)\n",
    "\n",
    "# Evaluate the performance\n",
    "accuracy_dt = accuracy_score(y_valid, y_pred_dt)\n",
    "print(f\"Validation Accuracy: {accuracy_dt * 100:.2f}%\\n\")\n",
    "print(\"Classification Report:\")\n",
    "print(classification_report(y_valid, y_pred_dt))"
   ]
  },
  {
   "cell_type": "code",
   "execution_count": 28,
   "id": "c7275c05",
   "metadata": {},
   "outputs": [
    {
     "name": "stdout",
     "output_type": "stream",
     "text": [
      "Validation Accuracy: 95.66%\n",
      "\n",
      "Classification Report:\n",
      "              precision    recall  f1-score   support\n",
      "\n",
      "        fake       0.95      0.97      0.96      4696\n",
      "        true       0.97      0.94      0.95      4284\n",
      "\n",
      "    accuracy                           0.96      8980\n",
      "   macro avg       0.96      0.96      0.96      8980\n",
      "weighted avg       0.96      0.96      0.96      8980\n",
      "\n"
     ]
    }
   ],
   "source": [
    "# Doc2Vec + Random Forest\n",
    "\n",
    "# Initialize the RandomForest classifier\n",
    "clf_rf = RandomForestClassifier(n_estimators=100, random_state=0)\n",
    "\n",
    "# Train the classifier using the training data\n",
    "clf_rf.fit(X_train_d2v, y_train)\n",
    "\n",
    "# Predict on the validation set\n",
    "y_pred_rf = clf_rf.predict(X_valid_d2v)\n",
    "\n",
    "# Evaluate the performance\n",
    "accuracy_rf = accuracy_score(y_valid, y_pred_rf)\n",
    "print(f\"Validation Accuracy: {accuracy_rf * 100:.2f}%\\n\")\n",
    "print(\"Classification Report:\")\n",
    "print(classification_report(y_valid, y_pred_rf))\n"
   ]
  },
  {
   "cell_type": "code",
   "execution_count": 29,
   "id": "55ef3aef",
   "metadata": {},
   "outputs": [
    {
     "name": "stdout",
     "output_type": "stream",
     "text": [
      "Validation Accuracy: 95.08%\n",
      "\n",
      "Classification Report:\n",
      "              precision    recall  f1-score   support\n",
      "\n",
      "        fake       0.95      0.96      0.95      4696\n",
      "        true       0.95      0.94      0.95      4284\n",
      "\n",
      "    accuracy                           0.95      8980\n",
      "   macro avg       0.95      0.95      0.95      8980\n",
      "weighted avg       0.95      0.95      0.95      8980\n",
      "\n"
     ]
    }
   ],
   "source": [
    "# Doc2Vec + SVM\n",
    "\n",
    "# Initialize the SVM classifier with a linear kernel\n",
    "clf_svm = SVC(kernel='linear')\n",
    "\n",
    "# Train the classifier using the training data\n",
    "clf_svm.fit(X_train_d2v, y_train)\n",
    "\n",
    "# Predict on the validation set\n",
    "y_pred_svm = clf_svm.predict(X_valid_d2v)\n",
    "\n",
    "# Evaluate the performance\n",
    "accuracy_svm = accuracy_score(y_valid, y_pred_svm)\n",
    "print(f\"Validation Accuracy: {accuracy_svm * 100:.2f}%\\n\")\n",
    "print(\"Classification Report:\")\n",
    "print(classification_report(y_valid, y_pred_svm))\n"
   ]
  },
  {
   "cell_type": "code",
   "execution_count": 30,
   "id": "15722c83",
   "metadata": {},
   "outputs": [
    {
     "name": "stdout",
     "output_type": "stream",
     "text": [
      "Validation Accuracy: 94.93%\n",
      "\n",
      "Classification Report:\n",
      "              precision    recall  f1-score   support\n",
      "\n",
      "        fake       0.96      0.94      0.95      4696\n",
      "        true       0.94      0.96      0.95      4284\n",
      "\n",
      "    accuracy                           0.95      8980\n",
      "   macro avg       0.95      0.95      0.95      8980\n",
      "weighted avg       0.95      0.95      0.95      8980\n",
      "\n"
     ]
    }
   ],
   "source": [
    "# Doc2Vec + k-NN n=5\n",
    "\n",
    "# Initialize the KNN classifier with 5 neighbors\n",
    "clf_knn = KNeighborsClassifier(n_neighbors=5)\n",
    "\n",
    "# Train the classifier using the training data\n",
    "clf_knn.fit(X_train_d2v, y_train)\n",
    "\n",
    "# Predict on the validation set\n",
    "y_pred_knn = clf_knn.predict(X_valid_d2v)\n",
    "\n",
    "# Evaluate the performance\n",
    "accuracy_knn = accuracy_score(y_valid, y_pred_knn)\n",
    "print(f\"Validation Accuracy: {accuracy_knn * 100:.2f}%\\n\")\n",
    "print(\"Classification Report:\")\n",
    "print(classification_report(y_valid, y_pred_knn))\n"
   ]
  }
 ],
 "metadata": {
  "kernelspec": {
   "display_name": "Python 3 (ipykernel)",
   "language": "python",
   "name": "python3"
  },
  "language_info": {
   "codemirror_mode": {
    "name": "ipython",
    "version": 3
   },
   "file_extension": ".py",
   "mimetype": "text/x-python",
   "name": "python",
   "nbconvert_exporter": "python",
   "pygments_lexer": "ipython3",
   "version": "3.9.7"
  }
 },
 "nbformat": 4,
 "nbformat_minor": 5
}
