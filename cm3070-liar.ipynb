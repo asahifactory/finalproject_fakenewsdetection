{
 "cells": [
  {
   "cell_type": "code",
   "execution_count": 1,
   "id": "12c8659f",
   "metadata": {},
   "outputs": [],
   "source": [
    "import numpy as np\n",
    "import pandas as pd\n",
    "import re\n",
    "\n",
    "# Plotting and Metrics imports\n",
    "import matplotlib.pyplot as plt\n",
    "from sklearn.metrics import classification_report, accuracy_score\n",
    "\n",
    "# Data Processing imports\n",
    "from sklearn.model_selection import train_test_split\n",
    "import re, nltk\n",
    "from nltk.corpus import stopwords\n",
    "from nltk.stem import WordNetLemmatizer\n",
    "# nltk.download('stopwords')\n",
    "# nltk.download('wordnet')\n",
    "\n",
    "# Feature Extraction imports\n",
    "from sklearn.feature_extraction.text import CountVectorizer\n",
    "from sklearn.feature_extraction.text import TfidfVectorizer\n",
    "from sklearn.neighbors import KNeighborsClassifier\n",
    "\n",
    "# Doc2Vec imports\n",
    "import gensim\n",
    "from gensim.models.doc2vec import Doc2Vec, TaggedDocument\n",
    "from nltk.tokenize import word_tokenize\n",
    "\n",
    "# Models imports\n",
    "from sklearn.tree import DecisionTreeClassifier\n",
    "from sklearn.ensemble import RandomForestClassifier\n",
    "from sklearn.svm import SVC\n",
    "from sklearn.neighbors import KNeighborsClassifier"
   ]
  },
  {
   "cell_type": "markdown",
   "id": "8e053f84",
   "metadata": {},
   "source": [
    "## LIAR dataset"
   ]
  },
  {
   "cell_type": "code",
   "execution_count": 2,
   "id": "13fd5bb1",
   "metadata": {},
   "outputs": [
    {
     "name": "stdout",
     "output_type": "stream",
     "text": [
      "           0            1                                                  2   \\\n",
      "0   2635.json        false  Says the Annies List political group supports ...   \n",
      "1  10540.json    half-true  When did the decline of coal start? It started...   \n",
      "2    324.json  mostly-true  Hillary Clinton agrees with John McCain \"by vo...   \n",
      "3   1123.json        false  Health care reform legislation is likely to ma...   \n",
      "4   9028.json    half-true  The economic turnaround started at the end of ...   \n",
      "\n",
      "                                   3               4                     5   \\\n",
      "0                            abortion    dwayne-bohac  State representative   \n",
      "1  energy,history,job-accomplishments  scott-surovell        State delegate   \n",
      "2                      foreign-policy    barack-obama             President   \n",
      "3                         health-care    blog-posting                   NaN   \n",
      "4                        economy,jobs   charlie-crist                   NaN   \n",
      "\n",
      "         6           7     8     9      10     11    12                   13  \n",
      "0     Texas  republican   0.0   1.0    0.0    0.0   0.0             a mailer  \n",
      "1  Virginia    democrat   0.0   0.0    1.0    1.0   0.0      a floor speech.  \n",
      "2  Illinois    democrat  70.0  71.0  160.0  163.0   9.0               Denver  \n",
      "3       NaN        none   7.0  19.0    3.0    5.0  44.0       a news release  \n",
      "4   Florida    democrat  15.0   9.0   20.0   19.0   2.0  an interview on CNN  \n"
     ]
    }
   ],
   "source": [
    "# Load and Review the LIAR dataset\n",
    "\n",
    "liar_train = pd.read_csv('02liar/train.tsv', delimiter='\\t', header=None)\n",
    "liar_test = pd.read_csv('02liar/test.tsv', delimiter='\\t', header=None)\n",
    "liar_valid = pd.read_csv('02liar/valid.tsv', delimiter='\\t', header=None)\n",
    "\n",
    "print(liar_train.head())\n"
   ]
  },
  {
   "cell_type": "code",
   "execution_count": 3,
   "id": "ffae2e7d",
   "metadata": {},
   "outputs": [
    {
     "name": "stdout",
     "output_type": "stream",
     "text": [
      "           ID        Label                                          Statement  \\\n",
      "0   2635.json        false  Says the Annies List political group supports ...   \n",
      "1  10540.json    half-true  When did the decline of coal start? It started...   \n",
      "2    324.json  mostly-true  Hillary Clinton agrees with John McCain \"by vo...   \n",
      "3   1123.json        false  Health care reform legislation is likely to ma...   \n",
      "4   9028.json    half-true  The economic turnaround started at the end of ...   \n",
      "\n",
      "                              Subject         Speaker   Speaker's Job Title  \\\n",
      "0                            abortion    dwayne-bohac  State representative   \n",
      "1  energy,history,job-accomplishments  scott-surovell        State delegate   \n",
      "2                      foreign-policy    barack-obama             President   \n",
      "3                         health-care    blog-posting                   NaN   \n",
      "4                        economy,jobs   charlie-crist                   NaN   \n",
      "\n",
      "      State Party Affiliation  Total Credits  Barely True Counts  \\\n",
      "0     Texas        republican            0.0                 1.0   \n",
      "1  Virginia          democrat            0.0                 0.0   \n",
      "2  Illinois          democrat           70.0                71.0   \n",
      "3       NaN              none            7.0                19.0   \n",
      "4   Florida          democrat           15.0                 9.0   \n",
      "\n",
      "   False Counts  Half True Counts  Mostly True Counts Pants on Fire Counts  \n",
      "0           0.0               0.0                 0.0             a mailer  \n",
      "1           1.0               1.0                 0.0      a floor speech.  \n",
      "2         160.0             163.0                 9.0               Denver  \n",
      "3           3.0               5.0                44.0       a news release  \n",
      "4          20.0              19.0                 2.0  an interview on CNN  \n"
     ]
    }
   ],
   "source": [
    "# Name the columns for ease of use\n",
    "column_names = [\n",
    "    \"ID\", \"Label\", \"Statement\", \"Subject\", \"Speaker\", \"Speaker's Job Title\", \n",
    "    \"State\", \"Party Affiliation\", \"Total Credits\", \"Barely True Counts\", \n",
    "    \"False Counts\", \"Half True Counts\", \"Mostly True Counts\", \"Pants on Fire Counts\"\n",
    "]\n",
    "\n",
    "liar_train.columns = column_names\n",
    "liar_test.columns = column_names\n",
    "liar_valid.columns = column_names\n",
    "\n",
    "# Display the first few rows to verify\n",
    "print(liar_train.head())\n"
   ]
  },
  {
   "cell_type": "markdown",
   "id": "05f545d0",
   "metadata": {},
   "source": [
    "#### Study the dataset"
   ]
  },
  {
   "cell_type": "code",
   "execution_count": 4,
   "id": "0dea1b76",
   "metadata": {},
   "outputs": [
    {
     "data": {
      "image/png": "[encoded data removed]",
      "text/plain": [
       "<Figure size 432x288 with 1 Axes>"
      ]
     },
     "metadata": {
      "needs_background": "light"
     },
     "output_type": "display_data"
    }
   ],
   "source": [
    "# Distribution\n",
    "\n",
    "# Plotting the distribution of labels in the training set\n",
    "liar_train['Label'].value_counts().plot(kind='bar', color='skyblue')\n",
    "plt.title('Distribution of Labels in LIAR Training Set')\n",
    "plt.xlabel('Labels')\n",
    "plt.ylabel('Number of Articles')\n",
    "plt.show()"
   ]
  },
  {
   "cell_type": "code",
   "execution_count": 5,
   "id": "8acee1b7",
   "metadata": {},
   "outputs": [
    {
     "name": "stdout",
     "output_type": "stream",
     "text": [
      "Missing values Training Set:\n",
      "ID                         0\n",
      "Label                      0\n",
      "Statement                  0\n",
      "Subject                    2\n",
      "Speaker                    2\n",
      "Speaker's Job Title     2897\n",
      "State                   2208\n",
      "Party Affiliation          2\n",
      "Total Credits              2\n",
      "Barely True Counts         2\n",
      "False Counts               2\n",
      "Half True Counts           2\n",
      "Mostly True Counts         2\n",
      "Pants on Fire Counts     102\n",
      "dtype: int64\n"
     ]
    }
   ],
   "source": [
    "# Missing value\n",
    "\n",
    "# Display the number of missing values for each column in the training set\n",
    "missing_values = liar_train.isnull().sum()\n",
    "print(\"Missing values Training Set:\")\n",
    "print(missing_values)\n"
   ]
  },
  {
   "cell_type": "markdown",
   "id": "1ba13653",
   "metadata": {},
   "source": [
    "### Data Preprocessing"
   ]
  },
  {
   "cell_type": "code",
   "execution_count": 6,
   "id": "6a86573a",
   "metadata": {},
   "outputs": [
    {
     "name": "stdout",
     "output_type": "stream",
     "text": [
      "           ID Label                                          Statement  \\\n",
      "0   2635.json  fake  say annies list political group support thirdt...   \n",
      "1  10540.json  true  decline coal start started natural gas took st...   \n",
      "2    324.json  true  hillary clinton agrees john mccain voting give...   \n",
      "3   1123.json  fake  health care reform legislation likely mandate ...   \n",
      "4   9028.json  true               economic turnaround started end term   \n",
      "\n",
      "                              Subject         Speaker   Speaker's Job Title  \\\n",
      "0                            abortion    dwayne-bohac  State representative   \n",
      "1  energy,history,job-accomplishments  scott-surovell        State delegate   \n",
      "2                      foreign-policy    barack-obama             President   \n",
      "3                         health-care    blog-posting                   NaN   \n",
      "4                        economy,jobs   charlie-crist                   NaN   \n",
      "\n",
      "      State Party Affiliation  Total Credits  Barely True Counts  \\\n",
      "0     Texas        republican            0.0                 1.0   \n",
      "1  Virginia          democrat            0.0                 0.0   \n",
      "2  Illinois          democrat           70.0                71.0   \n",
      "3       NaN              none            7.0                19.0   \n",
      "4   Florida          democrat           15.0                 9.0   \n",
      "\n",
      "   False Counts  Half True Counts  Mostly True Counts Pants on Fire Counts  \n",
      "0           0.0               0.0                 0.0             a mailer  \n",
      "1           1.0               1.0                 0.0      a floor speech.  \n",
      "2         160.0             163.0                 9.0               Denver  \n",
      "3           3.0               5.0                44.0       a news release  \n",
      "4          20.0              19.0                 2.0  an interview on CNN  \n"
     ]
    }
   ],
   "source": [
    "# Data Preprocessing\n",
    "\n",
    "lemmatizer = WordNetLemmatizer()\n",
    "stop_words = set(stopwords.words('english'))\n",
    "\n",
    "def normalize_text(text):\n",
    "    # Convert to lowercase\n",
    "    text = text.lower()\n",
    "    # Remove special characters and digits\n",
    "    text = re.sub(r'[^a-zA-Z\\s]', '', text, re.I | re.A)\n",
    "    # Remove stopwords and lemmatize\n",
    "    text = ' '.join(lemmatizer.lemmatize(token) for token in text.split() if token not in stop_words)\n",
    "    return text\n",
    "\n",
    "liar_train['Statement'] = liar_train['Statement'].apply(normalize_text)\n",
    "liar_test['Statement'] = liar_test['Statement'].apply(normalize_text)\n",
    "liar_valid['Statement'] = liar_valid['Statement'].apply(normalize_text)\n",
    "\n",
    "def map_labels(label):\n",
    "    true_labels = [\"true\", \"mostly-true\", \"half-true\"]\n",
    "    return \"true\" if label in true_labels else \"fake\"\n",
    "\n",
    "liar_train['Label'] = liar_train['Label'].apply(map_labels)\n",
    "liar_test['Label'] = liar_test['Label'].apply(map_labels)\n",
    "liar_valid['Label'] = liar_valid['Label'].apply(map_labels)\n",
    "\n",
    "print(liar_train.head())"
   ]
  },
  {
   "cell_type": "code",
   "execution_count": 7,
   "id": "6af7d013",
   "metadata": {},
   "outputs": [],
   "source": [
    "columns_to_drop = ['ID', 'Subject', 'Speaker', \"Speaker's Job Title\", 'State', \n",
    "                   'Party Affiliation', 'Total Credits', 'Barely True Counts', \n",
    "                   'False Counts', 'Half True Counts', 'Mostly True Counts', \n",
    "                   'Pants on Fire Counts']\n",
    "\n",
    "liar_train.drop(columns=columns_to_drop, inplace=True)\n",
    "liar_test.drop(columns=columns_to_drop, inplace=True)\n",
    "liar_valid.drop(columns=columns_to_drop, inplace=True)\n"
   ]
  },
  {
   "cell_type": "code",
   "execution_count": 8,
   "id": "dddbbc23",
   "metadata": {},
   "outputs": [
    {
     "name": "stdout",
     "output_type": "stream",
     "text": [
      "Index(['Label', 'Statement'], dtype='object')\n"
     ]
    }
   ],
   "source": [
    "print(liar_train.columns)"
   ]
  },
  {
   "cell_type": "code",
   "execution_count": 9,
   "id": "25a3a400",
   "metadata": {},
   "outputs": [
    {
     "name": "stdout",
     "output_type": "stream",
     "text": [
      "  Label                                          Statement\n",
      "0  fake                                le american working\n",
      "1  fake  obama sworn office use holy bible instead kura...\n",
      "2  fake  say organization parading social welfare organ...\n",
      "3  true                  say nearly half oregon child poor\n",
      "4  true  attack republican various program economic sti...\n"
     ]
    }
   ],
   "source": [
    "print(liar_valid.head())"
   ]
  },
  {
   "cell_type": "code",
   "execution_count": 10,
   "id": "7f6e8656",
   "metadata": {},
   "outputs": [
    {
     "name": "stdout",
     "output_type": "stream",
     "text": [
      "Shape of BoW training data: (10240, 5000)\n",
      "Shape of BoW validation data: (1284, 5000)\n",
      "Shape of BoW test data: (1267, 5000)\n"
     ]
    }
   ],
   "source": [
    "# BoW\n",
    "\n",
    "# Initialize the CountVectorizer\n",
    "vectorizer = CountVectorizer(stop_words='english', max_features=5000)  # Limiting to 5000 most frequent words for simplicity\n",
    "\n",
    "# Fit and transform the training data from LIAR dataset\n",
    "X_train_bow = vectorizer.fit_transform(liar_train['Statement'])\n",
    "\n",
    "# Transform the validation and test data\n",
    "X_valid_bow = vectorizer.transform(liar_valid['Statement'])\n",
    "X_test_bow = vectorizer.transform(liar_test['Statement'])\n",
    "\n",
    "# Print some information\n",
    "print(f\"Shape of BoW training data: {X_train_bow.shape}\")\n",
    "print(f\"Shape of BoW validation data: {X_valid_bow.shape}\")\n",
    "print(f\"Shape of BoW test data: {X_test_bow.shape}\")\n",
    "\n",
    "y_train = liar_train['Label']\n",
    "y_valid = liar_valid['Label']\n",
    "y_test = liar_test['Label']\n"
   ]
  },
  {
   "cell_type": "code",
   "execution_count": 11,
   "id": "26b1f23d",
   "metadata": {},
   "outputs": [
    {
     "name": "stdout",
     "output_type": "stream",
     "text": [
      "Validation Accuracy: 57.17%\n",
      "\n",
      "Classification Report:\n",
      "              precision    recall  f1-score   support\n",
      "\n",
      "        fake       0.57      0.46      0.51       616\n",
      "        true       0.58      0.67      0.62       668\n",
      "\n",
      "    accuracy                           0.57      1284\n",
      "   macro avg       0.57      0.57      0.56      1284\n",
      "weighted avg       0.57      0.57      0.57      1284\n",
      "\n"
     ]
    }
   ],
   "source": [
    "# BoW + Decision Tree\n",
    "\n",
    "# Initialize the Decision Tree Classifier\n",
    "clf_tree = DecisionTreeClassifier()\n",
    "\n",
    "# Train the classifier using the training data\n",
    "clf_tree.fit(X_train_bow, y_train)\n",
    "\n",
    "# Predict on the validation set\n",
    "y_pred_tree = clf_tree.predict(X_valid_bow)\n",
    "\n",
    "# Evaluate the performance\n",
    "accuracy_tree = accuracy_score(y_valid, y_pred_tree)\n",
    "print(f\"Validation Accuracy: {accuracy_tree * 100:.2f}%\\n\")\n",
    "print(\"Classification Report:\")\n",
    "print(classification_report(y_valid, y_pred_tree))\n"
   ]
  },
  {
   "cell_type": "code",
   "execution_count": 12,
   "id": "ed92b3d0",
   "metadata": {},
   "outputs": [
    {
     "name": "stdout",
     "output_type": "stream",
     "text": [
      "Validation Accuracy: 61.37%\n",
      "\n",
      "Classification Report:\n",
      "              precision    recall  f1-score   support\n",
      "\n",
      "        fake       0.63      0.48      0.54       616\n",
      "        true       0.61      0.74      0.67       668\n",
      "\n",
      "    accuracy                           0.61      1284\n",
      "   macro avg       0.62      0.61      0.60      1284\n",
      "weighted avg       0.62      0.61      0.61      1284\n",
      "\n"
     ]
    }
   ],
   "source": [
    "# BoW + Random Froest\n",
    "\n",
    "# Initialize the Random Forest Classifier\n",
    "clf_rf = RandomForestClassifier()\n",
    "\n",
    "# Train the classifier using the training data\n",
    "clf_rf.fit(X_train_bow, y_train)\n",
    "\n",
    "# Predict on the validation set\n",
    "y_pred_rf = clf_rf.predict(X_valid_bow)\n",
    "\n",
    "# Evaluate the performance\n",
    "accuracy_rf = accuracy_score(y_valid, y_pred_rf)\n",
    "print(f\"Validation Accuracy: {accuracy_rf * 100:.2f}%\\n\")\n",
    "print(\"Classification Report:\")\n",
    "print(classification_report(y_valid, y_pred_rf))\n"
   ]
  },
  {
   "cell_type": "code",
   "execution_count": 13,
   "id": "063ac099",
   "metadata": {},
   "outputs": [
    {
     "name": "stdout",
     "output_type": "stream",
     "text": [
      "Validation Accuracy for SVM with BoW: 56.70%\n",
      "\n",
      "Classification Report for SVM with BoW:\n",
      "              precision    recall  f1-score   support\n",
      "\n",
      "        fake       0.56      0.49      0.52       616\n",
      "        true       0.58      0.64      0.61       668\n",
      "\n",
      "    accuracy                           0.57      1284\n",
      "   macro avg       0.57      0.56      0.56      1284\n",
      "weighted avg       0.57      0.57      0.56      1284\n",
      "\n"
     ]
    }
   ],
   "source": [
    "#BoW + SVM\n",
    "\n",
    "# Initialize the SVM Classifier\n",
    "clf_svm_bow = SVC(kernel='linear', probability=True)\n",
    "\n",
    "# Train the classifier using the BoW training data\n",
    "clf_svm_bow.fit(X_train_bow, y_train)\n",
    "\n",
    "# Predict on the validation set\n",
    "y_pred_svm_bow = clf_svm_bow.predict(X_valid_bow)\n",
    "\n",
    "# Evaluate the performance\n",
    "accuracy_svm_bow = accuracy_score(y_valid, y_pred_svm_bow)\n",
    "print(f\"Validation Accuracy for SVM with BoW: {accuracy_svm_bow * 100:.2f}%\\n\")\n",
    "print(\"Classification Report for SVM with BoW:\")\n",
    "print(classification_report(y_valid, y_pred_svm_bow))\n"
   ]
  },
  {
   "cell_type": "code",
   "execution_count": 14,
   "id": "bda0771a",
   "metadata": {},
   "outputs": [
    {
     "name": "stdout",
     "output_type": "stream",
     "text": [
      "Validation Accuracy for KNN with BoW: 53.89%\n",
      "\n",
      "Classification Report for KNN with BoW:\n",
      "              precision    recall  f1-score   support\n",
      "\n",
      "        fake       0.52      0.42      0.46       616\n",
      "        true       0.55      0.65      0.60       668\n",
      "\n",
      "    accuracy                           0.54      1284\n",
      "   macro avg       0.54      0.53      0.53      1284\n",
      "weighted avg       0.54      0.54      0.53      1284\n",
      "\n"
     ]
    }
   ],
   "source": [
    "#BoW + KNN neighbours 5\n",
    "\n",
    "# Initialize the KNN Classifier\n",
    "clf_knn_bow = KNeighborsClassifier(n_neighbors=5)  # You can tune the 'n_neighbors' parameter\n",
    "\n",
    "# Train the classifier using the BoW training data\n",
    "clf_knn_bow.fit(X_train_bow, y_train)\n",
    "\n",
    "# Predict on the validation set\n",
    "y_pred_knn_bow = clf_knn_bow.predict(X_valid_bow)\n",
    "\n",
    "# Evaluate the performance\n",
    "accuracy_knn_bow = accuracy_score(y_valid, y_pred_knn_bow)\n",
    "print(f\"Validation Accuracy for KNN with BoW: {accuracy_knn_bow * 100:.2f}%\\n\")\n",
    "print(\"Classification Report for KNN with BoW:\")\n",
    "print(classification_report(y_valid, y_pred_knn_bow))\n"
   ]
  },
  {
   "cell_type": "code",
   "execution_count": 15,
   "id": "6d66daba",
   "metadata": {},
   "outputs": [],
   "source": [
    "# TF-IDF\n",
    "\n",
    "# Initialize the TF-IDF vectorizer\n",
    "tfidf_vectorizer = TfidfVectorizer(max_features=5000, stop_words='english', ngram_range=(1,2))\n",
    "\n",
    "# Fit and transform the training data\n",
    "X_train_tfidf = tfidf_vectorizer.fit_transform(liar_train['Statement'])\n",
    "\n",
    "# Transform the validation data\n",
    "X_valid_tfidf = tfidf_vectorizer.transform(liar_valid['Statement'])\n"
   ]
  },
  {
   "cell_type": "code",
   "execution_count": 16,
   "id": "c49a6c34",
   "metadata": {},
   "outputs": [
    {
     "name": "stdout",
     "output_type": "stream",
     "text": [
      "Validation Accuracy: 57.24%\n",
      "\n",
      "Classification Report:\n",
      "              precision    recall  f1-score   support\n",
      "\n",
      "        fake       0.56      0.50      0.53       616\n",
      "        true       0.58      0.64      0.61       668\n",
      "\n",
      "    accuracy                           0.57      1284\n",
      "   macro avg       0.57      0.57      0.57      1284\n",
      "weighted avg       0.57      0.57      0.57      1284\n",
      "\n"
     ]
    }
   ],
   "source": [
    "# TF-IDF + Decision Tree\n",
    "\n",
    "# Initialize the Decision Tree Classifier\n",
    "clf_tree_tfidf = DecisionTreeClassifier()\n",
    "\n",
    "# Train the classifier using the training data\n",
    "clf_tree_tfidf.fit(X_train_tfidf, y_train)\n",
    "\n",
    "# Predict on the validation set\n",
    "y_pred_tree_tfidf = clf_tree_tfidf.predict(X_valid_tfidf)\n",
    "\n",
    "# Evaluate the performance\n",
    "accuracy_tree_tfidf = accuracy_score(y_valid, y_pred_tree_tfidf)\n",
    "print(f\"Validation Accuracy: {accuracy_tree_tfidf * 100:.2f}%\\n\")\n",
    "print(\"Classification Report:\")\n",
    "print(classification_report(y_valid, y_pred_tree_tfidf))\n"
   ]
  },
  {
   "cell_type": "code",
   "execution_count": 17,
   "id": "60d46a6e",
   "metadata": {},
   "outputs": [
    {
     "name": "stdout",
     "output_type": "stream",
     "text": [
      "Validation Accuracy: 61.06%\n",
      "\n",
      "Classification Report:\n",
      "              precision    recall  f1-score   support\n",
      "\n",
      "        fake       0.63      0.45      0.53       616\n",
      "        true       0.60      0.76      0.67       668\n",
      "\n",
      "    accuracy                           0.61      1284\n",
      "   macro avg       0.62      0.60      0.60      1284\n",
      "weighted avg       0.62      0.61      0.60      1284\n",
      "\n"
     ]
    }
   ],
   "source": [
    "# TF-IDF + random forest\n",
    "\n",
    "# Initialize the Random Forest Classifier\n",
    "clf_rf = RandomForestClassifier(n_estimators=100)\n",
    "\n",
    "# Train the classifier using the training data\n",
    "clf_rf.fit(X_train_tfidf, y_train)\n",
    "\n",
    "# Predict on the validation set\n",
    "y_pred_rf = clf_rf.predict(X_valid_tfidf)\n",
    "\n",
    "# Evaluate the performance\n",
    "accuracy_rf = accuracy_score(y_valid, y_pred_rf)\n",
    "print(f\"Validation Accuracy: {accuracy_rf * 100:.2f}%\\n\")\n",
    "print(\"Classification Report:\")\n",
    "print(classification_report(y_valid, y_pred_rf))\n"
   ]
  },
  {
   "cell_type": "code",
   "execution_count": 18,
   "id": "25907816",
   "metadata": {},
   "outputs": [
    {
     "name": "stdout",
     "output_type": "stream",
     "text": [
      "Validation Accuracy: 61.37%\n",
      "\n",
      "Classification Report:\n",
      "              precision    recall  f1-score   support\n",
      "\n",
      "        fake       0.62      0.50      0.56       616\n",
      "        true       0.61      0.71      0.66       668\n",
      "\n",
      "    accuracy                           0.61      1284\n",
      "   macro avg       0.61      0.61      0.61      1284\n",
      "weighted avg       0.61      0.61      0.61      1284\n",
      "\n"
     ]
    }
   ],
   "source": [
    "# TF-IDF + SVM\n",
    "\n",
    "# Initialize the SVC classifier with a linear kernel\n",
    "clf_svc = SVC(kernel='linear')\n",
    "\n",
    "# Train the classifier using the training data\n",
    "clf_svc.fit(X_train_tfidf, y_train)\n",
    "\n",
    "# Predict on the validation set\n",
    "y_pred_svc = clf_svc.predict(X_valid_tfidf)\n",
    "\n",
    "# Evaluate the performance\n",
    "accuracy_svc = accuracy_score(y_valid, y_pred_svc)\n",
    "print(f\"Validation Accuracy: {accuracy_svc * 100:.2f}%\\n\")\n",
    "print(\"Classification Report:\")\n",
    "print(classification_report(y_valid, y_pred_svc))\n"
   ]
  },
  {
   "cell_type": "code",
   "execution_count": 19,
   "id": "5f358b84",
   "metadata": {},
   "outputs": [
    {
     "name": "stdout",
     "output_type": "stream",
     "text": [
      "Validation Accuracy: 53.43%\n",
      "\n",
      "Classification Report:\n",
      "              precision    recall  f1-score   support\n",
      "\n",
      "        fake       0.59      0.09      0.16       616\n",
      "        true       0.53      0.94      0.68       668\n",
      "\n",
      "    accuracy                           0.53      1284\n",
      "   macro avg       0.56      0.52      0.42      1284\n",
      "weighted avg       0.56      0.53      0.43      1284\n",
      "\n"
     ]
    }
   ],
   "source": [
    "# TF-IDF with KNN neighbours 5 \n",
    "\n",
    "# Initialize the KNN classifier\n",
    "# You can tune the number of neighbors (n_neighbors parameter) as needed.\n",
    "clf_knn = KNeighborsClassifier(n_neighbors=5)\n",
    "\n",
    "# Train the classifier using the training data\n",
    "clf_knn.fit(X_train_tfidf, y_train)\n",
    "\n",
    "# Predict on the validation set\n",
    "y_pred_knn = clf_knn.predict(X_valid_tfidf)\n",
    "\n",
    "# Evaluate the performance\n",
    "accuracy_knn = accuracy_score(y_valid, y_pred_knn)\n",
    "print(f\"Validation Accuracy: {accuracy_knn * 100:.2f}%\\n\")\n",
    "print(\"Classification Report:\")\n",
    "print(classification_report(y_valid, y_pred_knn))\n"
   ]
  },
  {
   "cell_type": "code",
   "execution_count": 20,
   "id": "2a983786",
   "metadata": {},
   "outputs": [],
   "source": [
    "# N-gram Representation\n",
    "\n",
    "# Initialize CountVectorizer with ngram range for unigrams and bigrams\n",
    "vectorizer = CountVectorizer(ngram_range=(1, 2))\n",
    "\n",
    "# Fit and transform the training data\n",
    "X_train_ngram = vectorizer.fit_transform(liar_train['Statement'])\n",
    "\n",
    "# Transform the validation data\n",
    "X_valid_ngram = vectorizer.transform(liar_valid['Statement'])\n",
    "\n",
    "# Now you can train your models on the X_train_ngram and evaluate on X_valid_ngram\n"
   ]
  },
  {
   "cell_type": "code",
   "execution_count": 21,
   "id": "bdcf21fb",
   "metadata": {},
   "outputs": [
    {
     "name": "stdout",
     "output_type": "stream",
     "text": [
      "Validation Accuracy using n-grams: 56.70%\n",
      "\n",
      "Classification Report for n-grams:\n",
      "              precision    recall  f1-score   support\n",
      "\n",
      "        fake       0.55      0.50      0.53       616\n",
      "        true       0.58      0.63      0.60       668\n",
      "\n",
      "    accuracy                           0.57      1284\n",
      "   macro avg       0.57      0.56      0.56      1284\n",
      "weighted avg       0.57      0.57      0.57      1284\n",
      "\n"
     ]
    }
   ],
   "source": [
    "# N-gram Count + Decision Tree\n",
    "\n",
    "# Initialize the Decision Tree Classifier\n",
    "clf_tree_ngram = DecisionTreeClassifier()\n",
    "\n",
    "# Train the classifier using the n-gram training data\n",
    "clf_tree_ngram.fit(X_train_ngram, y_train)\n",
    "\n",
    "# Predict on the validation set\n",
    "y_pred_tree_ngram = clf_tree_ngram.predict(X_valid_ngram)\n",
    "\n",
    "# Evaluate the performance\n",
    "accuracy_tree_ngram = accuracy_score(y_valid, y_pred_tree_ngram)\n",
    "print(f\"Validation Accuracy using n-grams: {accuracy_tree_ngram * 100:.2f}%\\n\")\n",
    "print(\"Classification Report for n-grams:\")\n",
    "print(classification_report(y_valid, y_pred_tree_ngram))\n"
   ]
  },
  {
   "cell_type": "code",
   "execution_count": 22,
   "id": "6ed35e82",
   "metadata": {},
   "outputs": [
    {
     "name": "stdout",
     "output_type": "stream",
     "text": [
      "Validation Accuracy using n-grams with Random Forest: 59.66%\n",
      "\n",
      "Classification Report for n-grams with Random Forest:\n",
      "              precision    recall  f1-score   support\n",
      "\n",
      "        fake       0.65      0.34      0.45       616\n",
      "        true       0.58      0.84      0.68       668\n",
      "\n",
      "    accuracy                           0.60      1284\n",
      "   macro avg       0.62      0.59      0.56      1284\n",
      "weighted avg       0.61      0.60      0.57      1284\n",
      "\n"
     ]
    }
   ],
   "source": [
    "# N-gram Count + Random Forest\n",
    "\n",
    "# Initialize the Random Forest Classifier\n",
    "clf_rf_ngram = RandomForestClassifier()\n",
    "\n",
    "# Train the classifier using the n-gram training data\n",
    "clf_rf_ngram.fit(X_train_ngram, y_train)\n",
    "\n",
    "# Predict on the validation set\n",
    "y_pred_rf_ngram = clf_rf_ngram.predict(X_valid_ngram)\n",
    "\n",
    "# Evaluate the performance\n",
    "accuracy_rf_ngram = accuracy_score(y_valid, y_pred_rf_ngram)\n",
    "print(f\"Validation Accuracy using n-grams with Random Forest: {accuracy_rf_ngram * 100:.2f}%\\n\")\n",
    "print(\"Classification Report for n-grams with Random Forest:\")\n",
    "print(classification_report(y_valid, y_pred_rf_ngram))\n"
   ]
  },
  {
   "cell_type": "code",
   "execution_count": 23,
   "id": "f3e6448b",
   "metadata": {},
   "outputs": [
    {
     "name": "stdout",
     "output_type": "stream",
     "text": [
      "Validation Accuracy using n-grams with SVM: 58.80%\n",
      "\n",
      "Classification Report for n-grams with SVM:\n",
      "              precision    recall  f1-score   support\n",
      "\n",
      "        fake       0.58      0.53      0.55       616\n",
      "        true       0.60      0.64      0.62       668\n",
      "\n",
      "    accuracy                           0.59      1284\n",
      "   macro avg       0.59      0.59      0.59      1284\n",
      "weighted avg       0.59      0.59      0.59      1284\n",
      "\n"
     ]
    }
   ],
   "source": [
    "# N-gram Count + SVM\n",
    "\n",
    "# Initialize the SVM classifier with a linear kernel\n",
    "clf_svm_ngram = SVC(kernel='linear')\n",
    "\n",
    "# Train the classifier using the n-gram training data\n",
    "clf_svm_ngram.fit(X_train_ngram, y_train)\n",
    "\n",
    "# Predict on the validation set\n",
    "y_pred_svm_ngram = clf_svm_ngram.predict(X_valid_ngram)\n",
    "\n",
    "# Evaluate the performance\n",
    "accuracy_svm_ngram = accuracy_score(y_valid, y_pred_svm_ngram)\n",
    "print(f\"Validation Accuracy using n-grams with SVM: {accuracy_svm_ngram * 100:.2f}%\\n\")\n",
    "print(\"Classification Report for n-grams with SVM:\")\n",
    "print(classification_report(y_valid, y_pred_svm_ngram))\n"
   ]
  },
  {
   "cell_type": "code",
   "execution_count": 24,
   "id": "827f2885",
   "metadata": {},
   "outputs": [
    {
     "name": "stdout",
     "output_type": "stream",
     "text": [
      "Validation Accuracy using n-grams with KNN: 51.64%\n",
      "\n",
      "Classification Report for n-grams with KNN:\n",
      "              precision    recall  f1-score   support\n",
      "\n",
      "        fake       0.50      0.62      0.55       616\n",
      "        true       0.55      0.42      0.48       668\n",
      "\n",
      "    accuracy                           0.52      1284\n",
      "   macro avg       0.52      0.52      0.51      1284\n",
      "weighted avg       0.52      0.52      0.51      1284\n",
      "\n"
     ]
    }
   ],
   "source": [
    "# N-gram Count + KNN Neigbour=5\n",
    "\n",
    "# Initialize the KNN classifier with 5 neighbors\n",
    "clf_knn_ngram = KNeighborsClassifier(n_neighbors=5)\n",
    "\n",
    "# Train the classifier using the n-gram training data\n",
    "clf_knn_ngram.fit(X_train_ngram, y_train)\n",
    "\n",
    "# Predict on the validation set\n",
    "y_pred_knn_ngram = clf_knn_ngram.predict(X_valid_ngram)\n",
    "\n",
    "# Evaluate the performance\n",
    "accuracy_knn_ngram = accuracy_score(y_valid, y_pred_knn_ngram)\n",
    "print(f\"Validation Accuracy using n-grams with KNN: {accuracy_knn_ngram * 100:.2f}%\\n\")\n",
    "print(\"Classification Report for n-grams with KNN:\")\n",
    "print(classification_report(y_valid, y_pred_knn_ngram))\n"
   ]
  },
  {
   "cell_type": "code",
   "execution_count": 25,
   "id": "62f95eb4",
   "metadata": {},
   "outputs": [],
   "source": [
    "# Doc2Vec\n",
    "\n",
    "articles_tokenized = [word_tokenize(article.lower()) for article in liar_train['Statement']]\n",
    "\n",
    "tagged_data = [TaggedDocument(words=words, tags=[str(i)]) for i, words in enumerate(articles_tokenized)]\n",
    "\n",
    "model = Doc2Vec(vector_size=20, window=2, min_count=1, workers=4, epochs=100)\n",
    "model.build_vocab(tagged_data)\n",
    "model.train(tagged_data, total_examples=model.corpus_count, epochs=model.epochs)\n",
    "\n",
    "# Get vector for the first document as an example\n",
    "vector = model.infer_vector(articles_tokenized[0])\n",
    "\n",
    "# Transform the training statements into vectors\n",
    "X_train_d2v = [model.infer_vector(words) for words in articles_tokenized]\n",
    "\n",
    "# Transform the validation statements into vectors\n",
    "statements_tokenized_valid = [word_tokenize(statement.lower()) for statement in liar_valid['Statement']]\n",
    "X_valid_d2v = [model.infer_vector(words) for words in statements_tokenized_valid]"
   ]
  },
  {
   "cell_type": "code",
   "execution_count": 26,
   "id": "016dc5cf",
   "metadata": {},
   "outputs": [
    {
     "name": "stdout",
     "output_type": "stream",
     "text": [
      "Validation Accuracy: 51.87%\n",
      "\n",
      "Classification Report:\n",
      "              precision    recall  f1-score   support\n",
      "\n",
      "        fake       0.50      0.47      0.49       616\n",
      "        true       0.54      0.56      0.55       668\n",
      "\n",
      "    accuracy                           0.52      1284\n",
      "   macro avg       0.52      0.52      0.52      1284\n",
      "weighted avg       0.52      0.52      0.52      1284\n",
      "\n"
     ]
    }
   ],
   "source": [
    "# Doc2Vec + Decision Tree\n",
    "\n",
    "# Initialize the DecisionTree classifier\n",
    "clf_dt = DecisionTreeClassifier(random_state=0)\n",
    "\n",
    "# Train the classifier using the training data\n",
    "clf_dt.fit(X_train_d2v, y_train)\n",
    "\n",
    "# Predict on the validation set\n",
    "y_pred_dt = clf_dt.predict(X_valid_d2v)\n",
    "\n",
    "# Evaluate the performance\n",
    "accuracy_dt = accuracy_score(y_valid, y_pred_dt)\n",
    "print(f\"Validation Accuracy: {accuracy_dt * 100:.2f}%\\n\")\n",
    "print(\"Classification Report:\")\n",
    "print(classification_report(y_valid, y_pred_dt))"
   ]
  },
  {
   "cell_type": "code",
   "execution_count": 27,
   "id": "c7275c05",
   "metadata": {},
   "outputs": [
    {
     "name": "stdout",
     "output_type": "stream",
     "text": [
      "Validation Accuracy: 55.76%\n",
      "\n",
      "Classification Report:\n",
      "              precision    recall  f1-score   support\n",
      "\n",
      "        fake       0.56      0.35      0.43       616\n",
      "        true       0.56      0.75      0.64       668\n",
      "\n",
      "    accuracy                           0.56      1284\n",
      "   macro avg       0.56      0.55      0.54      1284\n",
      "weighted avg       0.56      0.56      0.54      1284\n",
      "\n"
     ]
    }
   ],
   "source": [
    "# Doc2Vec + Random Forest\n",
    "\n",
    "# Initialize the RandomForest classifier\n",
    "clf_rf = RandomForestClassifier(n_estimators=100, random_state=0)\n",
    "\n",
    "# Train the classifier using the training data\n",
    "clf_rf.fit(X_train_d2v, y_train)\n",
    "\n",
    "# Predict on the validation set\n",
    "y_pred_rf = clf_rf.predict(X_valid_d2v)\n",
    "\n",
    "# Evaluate the performance\n",
    "accuracy_rf = accuracy_score(y_valid, y_pred_rf)\n",
    "print(f\"Validation Accuracy: {accuracy_rf * 100:.2f}%\\n\")\n",
    "print(\"Classification Report:\")\n",
    "print(classification_report(y_valid, y_pred_rf))\n"
   ]
  },
  {
   "cell_type": "code",
   "execution_count": 28,
   "id": "55ef3aef",
   "metadata": {},
   "outputs": [
    {
     "name": "stdout",
     "output_type": "stream",
     "text": [
      "Validation Accuracy: 52.02%\n",
      "\n",
      "Classification Report:\n",
      "              precision    recall  f1-score   support\n",
      "\n",
      "        fake       0.00      0.00      0.00       616\n",
      "        true       0.52      1.00      0.68       668\n",
      "\n",
      "    accuracy                           0.52      1284\n",
      "   macro avg       0.26      0.50      0.34      1284\n",
      "weighted avg       0.27      0.52      0.36      1284\n",
      "\n"
     ]
    },
    {
     "name": "stderr",
     "output_type": "stream",
     "text": [
      "/Users/pikasuke/opt/anaconda3/lib/python3.9/site-packages/sklearn/metrics/_classification.py:1248: UndefinedMetricWarning: Precision and F-score are ill-defined and being set to 0.0 in labels with no predicted samples. Use `zero_division` parameter to control this behavior.\n",
      "  _warn_prf(average, modifier, msg_start, len(result))\n",
      "/Users/pikasuke/opt/anaconda3/lib/python3.9/site-packages/sklearn/metrics/_classification.py:1248: UndefinedMetricWarning: Precision and F-score are ill-defined and being set to 0.0 in labels with no predicted samples. Use `zero_division` parameter to control this behavior.\n",
      "  _warn_prf(average, modifier, msg_start, len(result))\n",
      "/Users/pikasuke/opt/anaconda3/lib/python3.9/site-packages/sklearn/metrics/_classification.py:1248: UndefinedMetricWarning: Precision and F-score are ill-defined and being set to 0.0 in labels with no predicted samples. Use `zero_division` parameter to control this behavior.\n",
      "  _warn_prf(average, modifier, msg_start, len(result))\n"
     ]
    }
   ],
   "source": [
    "# Doc2Vec + SVC\n",
    "\n",
    "# Initialize the SVM classifier with a linear kernel\n",
    "clf_svm = SVC(kernel='linear')\n",
    "\n",
    "# Train the classifier using the training data\n",
    "clf_svm.fit(X_train_d2v, y_train)\n",
    "\n",
    "# Predict on the validation set\n",
    "y_pred_svm = clf_svm.predict(X_valid_d2v)\n",
    "\n",
    "# Evaluate the performance\n",
    "accuracy_svm = accuracy_score(y_valid, y_pred_svm)\n",
    "print(f\"Validation Accuracy: {accuracy_svm * 100:.2f}%\\n\")\n",
    "print(\"Classification Report:\")\n",
    "print(classification_report(y_valid, y_pred_svm))\n"
   ]
  },
  {
   "cell_type": "code",
   "execution_count": 29,
   "id": "15722c83",
   "metadata": {},
   "outputs": [
    {
     "name": "stdout",
     "output_type": "stream",
     "text": [
      "Validation Accuracy: 53.04%\n",
      "\n",
      "Classification Report:\n",
      "              precision    recall  f1-score   support\n",
      "\n",
      "        fake       0.51      0.45      0.48       616\n",
      "        true       0.54      0.60      0.57       668\n",
      "\n",
      "    accuracy                           0.53      1284\n",
      "   macro avg       0.53      0.53      0.53      1284\n",
      "weighted avg       0.53      0.53      0.53      1284\n",
      "\n"
     ]
    }
   ],
   "source": [
    "# Doc2Vec + KNN n=5\n",
    "\n",
    "# Initialize the KNN classifier with 5 neighbors\n",
    "clf_knn = KNeighborsClassifier(n_neighbors=5)\n",
    "\n",
    "# Train the classifier using the training data\n",
    "clf_knn.fit(X_train_d2v, y_train)\n",
    "\n",
    "# Predict on the validation set\n",
    "y_pred_knn = clf_knn.predict(X_valid_d2v)\n",
    "\n",
    "# Evaluate the performance\n",
    "accuracy_knn = accuracy_score(y_valid, y_pred_knn)\n",
    "print(f\"Validation Accuracy: {accuracy_knn * 100:.2f}%\\n\")\n",
    "print(\"Classification Report:\")\n",
    "print(classification_report(y_valid, y_pred_knn))\n"
   ]
  }
 ],
 "metadata": {
  "kernelspec": {
   "display_name": "Python 3 (ipykernel)",
   "language": "python",
   "name": "python3"
  },
  "language_info": {
   "codemirror_mode": {
    "name": "ipython",
    "version": 3
   },
   "file_extension": ".py",
   "mimetype": "text/x-python",
   "name": "python",
   "nbconvert_exporter": "python",
   "pygments_lexer": "ipython3",
   "version": "3.9.7"
  }
 },
 "nbformat": 4,
 "nbformat_minor": 5
}
