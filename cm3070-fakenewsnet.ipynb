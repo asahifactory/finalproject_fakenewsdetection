{
 "cells": [
  {
   "cell_type": "code",
   "execution_count": 1,
   "id": "12c8659f",
   "metadata": {},
   "outputs": [],
   "source": [
    "import numpy as np\n",
    "import pandas as pd\n",
    "import re\n",
    "\n",
    "# Plotting and Metrics imports\n",
    "import matplotlib.pyplot as plt\n",
    "from sklearn.metrics import classification_report, accuracy_score\n",
    "\n",
    "# Data Processing imports\n",
    "from sklearn.model_selection import train_test_split\n",
    "import re, nltk\n",
    "from nltk.corpus import stopwords\n",
    "from nltk.stem import WordNetLemmatizer\n",
    "# nltk.download('stopwords')\n",
    "# nltk.download('wordnet')\n",
    "\n",
    "# Feature Extraction imports\n",
    "from sklearn.feature_extraction.text import CountVectorizer\n",
    "from sklearn.feature_extraction.text import TfidfVectorizer\n",
    "from sklearn.neighbors import KNeighborsClassifier\n",
    "\n",
    "# Doc2Vec imports\n",
    "import gensim\n",
    "from gensim.models.doc2vec import Doc2Vec, TaggedDocument\n",
    "from nltk.tokenize import word_tokenize\n",
    "\n",
    "# Models imports\n",
    "from sklearn.tree import DecisionTreeClassifier\n",
    "from sklearn.ensemble import RandomForestClassifier\n",
    "from sklearn.svm import SVC\n",
    "from sklearn.neighbors import KNeighborsClassifier"
   ]
  },
  {
   "cell_type": "markdown",
   "id": "8e053f84",
   "metadata": {},
   "source": [
    "## Fake News Net dataset"
   ]
  },
  {
   "cell_type": "code",
   "execution_count": 2,
   "id": "45b33289",
   "metadata": {},
   "outputs": [],
   "source": [
    "import pandas as pd\n",
    "\n",
    "# Loading the data\n",
    "buzzfeed_fake = pd.read_csv('04fakenewsnet/BuzzFeed_fake_news_content.csv')\n",
    "buzzfeed_real = pd.read_csv('04fakenewsnet/BuzzFeed_real_news_content.csv')\n",
    "politifact_fake = pd.read_csv('04fakenewsnet/PolitiFact_fake_news_content.csv')\n",
    "politifact_real = pd.read_csv('04fakenewsnet/PolitiFact_real_news_content.csv')\n",
    "\n",
    "# Combining fake news data from both sources\n",
    "fake_df = pd.concat([buzzfeed_fake, politifact_fake], ignore_index=True)\n",
    "\n",
    "# Combining real news data from both sources\n",
    "real_df = pd.concat([buzzfeed_real, politifact_real], ignore_index=True)\n",
    "\n",
    "# Adding labels to the dataframes\n",
    "fake_df['label'] = 'fake'\n",
    "real_df['label'] = 'true'\n",
    "\n",
    "# Combining both fake and real data into one dataframe\n",
    "fnn_df = pd.concat([fake_df, real_df], ignore_index=True)\n",
    "\n",
    "fnn_df = fnn_df[['text', 'label']]\n",
    "fnn_df.columns = ['Statement', 'Label']"
   ]
  },
  {
   "cell_type": "code",
   "execution_count": 3,
   "id": "8625976b",
   "metadata": {},
   "outputs": [
    {
     "name": "stdout",
     "output_type": "stream",
     "text": [
      "                                           Statement Label\n",
      "0  I woke up this morning to find a variation of ...  fake\n",
      "1  Former President Bill Clinton and his Clinton ...  fake\n",
      "2  After collapsing just before trying to step in...  fake\n",
      "3  Donald Trump is, well, deplorable. He’s sugges...  fake\n",
      "4                    Website is Down For Maintenance  fake\n"
     ]
    }
   ],
   "source": [
    "print(fnn_df.head())"
   ]
  },
  {
   "cell_type": "code",
   "execution_count": 4,
   "id": "05f91ee0",
   "metadata": {},
   "outputs": [],
   "source": [
    "# Split the data into 80% training and 20% validation\n",
    "fnn_train, fnn_valid = train_test_split(fnn_df, test_size=0.2, random_state=42, stratify=fnn_df['Label'])\n",
    "\n",
    "# Reset index for both dataframes\n",
    "fnn_train = fnn_train.reset_index(drop=True)\n",
    "fnn_valid = fnn_valid.reset_index(drop=True)"
   ]
  },
  {
   "cell_type": "markdown",
   "id": "05f545d0",
   "metadata": {},
   "source": [
    "#### Study the dataset (Fake News Net)"
   ]
  },
  {
   "cell_type": "code",
   "execution_count": 5,
   "id": "0dea1b76",
   "metadata": {},
   "outputs": [
    {
     "data": {
      "image/png": "[encoded data removed]",
      "text/plain": [
       "<Figure size 432x288 with 1 Axes>"
      ]
     },
     "metadata": {
      "needs_background": "light"
     },
     "output_type": "display_data"
    }
   ],
   "source": [
    "# Distribution\n",
    "\n",
    "# Plotting the distribution of labels in the training set\n",
    "fnn_train['Label'].value_counts().plot(kind='bar', color='skyblue')\n",
    "plt.title('Distribution of Labels in ISOT Training Set')\n",
    "plt.xlabel('Labels')\n",
    "plt.ylabel('Number of Articles')\n",
    "plt.show()"
   ]
  },
  {
   "cell_type": "code",
   "execution_count": 6,
   "id": "8acee1b7",
   "metadata": {},
   "outputs": [
    {
     "name": "stdout",
     "output_type": "stream",
     "text": [
      "Missing values in ISOT Training Set:\n",
      "Statement    0\n",
      "Label        0\n",
      "dtype: int64\n"
     ]
    }
   ],
   "source": [
    "# Missing value\n",
    "\n",
    "# Display the number of missing values for each column in the training set\n",
    "missing_values = fnn_train.isnull().sum()\n",
    "print(\"Missing values in ISOT Training Set:\")\n",
    "print(missing_values)\n"
   ]
  },
  {
   "cell_type": "markdown",
   "id": "1ba13653",
   "metadata": {},
   "source": [
    "### Data Preprocessing"
   ]
  },
  {
   "cell_type": "code",
   "execution_count": 7,
   "id": "6a86573a",
   "metadata": {},
   "outputs": [],
   "source": [
    "# Data Preprocessing\n",
    "\n",
    "lemmatizer = WordNetLemmatizer()\n",
    "stop_words = set(stopwords.words('english'))\n",
    "\n",
    "def normalize_text(text):\n",
    "    # Convert to lowercase\n",
    "    text = text.lower()\n",
    "    # Remove special characters and digits\n",
    "    text = re.sub(r'[^a-zA-Z\\s]', '', text, re.I | re.A)\n",
    "    # Remove stopwords and lemmatize\n",
    "    text = ' '.join(lemmatizer.lemmatize(token) for token in text.split() if token not in stop_words)\n",
    "    return text\n",
    "\n",
    "fnn_train['Statement'] = fnn_train['Statement'].apply(normalize_text)\n",
    "fnn_valid['Statement'] = fnn_valid['Statement'].apply(normalize_text)\n",
    "\n",
    "def map_labels(label):\n",
    "    true_labels = [\"true\", \"mostly-true\", \"half-true\"]\n",
    "    return \"true\" if label in true_labels else \"fake\"\n",
    "\n",
    "fnn_train['Label'] = fnn_train['Label'].apply(map_labels)\n",
    "fnn_valid['Label'] = fnn_valid['Label'].apply(map_labels)"
   ]
  },
  {
   "cell_type": "code",
   "execution_count": 8,
   "id": "8172f1b0",
   "metadata": {},
   "outputs": [
    {
     "name": "stdout",
     "output_type": "stream",
     "text": [
      "                                           Statement Label\n",
      "0  thanks part declassification defense intellige...  fake\n",
      "1  total state district columbia allow early voti...  fake\n",
      "2  ap photo mcconnell pelosi ryan seek deal gover...  true\n",
      "3  wouldnt nice could kick bigot country well tha...  fake\n",
      "4  trump happy didnt bring bill clinton affair do...  fake\n"
     ]
    }
   ],
   "source": [
    "print(fnn_train.head())"
   ]
  },
  {
   "cell_type": "code",
   "execution_count": 9,
   "id": "9f92be68",
   "metadata": {},
   "outputs": [
    {
     "name": "stdout",
     "output_type": "stream",
     "text": [
      "Index(['Statement', 'Label'], dtype='object')\n"
     ]
    }
   ],
   "source": [
    "print(fnn_train.columns)"
   ]
  },
  {
   "cell_type": "code",
   "execution_count": 10,
   "id": "7f6e8656",
   "metadata": {},
   "outputs": [
    {
     "name": "stdout",
     "output_type": "stream",
     "text": [
      "Shape of BoW training data: (337, 5000)\n",
      "Shape of BoW validation data: (85, 5000)\n"
     ]
    }
   ],
   "source": [
    "# BoW\n",
    "\n",
    "# Initialize the CountVectorizer\n",
    "vectorizer = CountVectorizer(stop_words='english', max_features=5000)  # Limiting to 5000 most frequent words for simplicity\n",
    "\n",
    "# Fit and transform the training data from LIAR dataset\n",
    "X_train_bow = vectorizer.fit_transform(fnn_train['Statement'])\n",
    "\n",
    "# Transform the validation and test data\n",
    "X_valid_bow = vectorizer.transform(fnn_valid['Statement'])\n",
    "\n",
    "# Print some information\n",
    "print(f\"Shape of BoW training data: {X_train_bow.shape}\")\n",
    "print(f\"Shape of BoW validation data: {X_valid_bow.shape}\")\n",
    "\n",
    "y_train = fnn_train['Label']\n",
    "y_valid = fnn_valid['Label']\n"
   ]
  },
  {
   "cell_type": "code",
   "execution_count": 11,
   "id": "26b1f23d",
   "metadata": {},
   "outputs": [
    {
     "name": "stdout",
     "output_type": "stream",
     "text": [
      "Validation Accuracy: 25.88%\n",
      "\n",
      "Classification Report:\n",
      "              precision    recall  f1-score   support\n",
      "\n",
      "        fake       0.30      0.35      0.32        43\n",
      "        true       0.20      0.17      0.18        42\n",
      "\n",
      "    accuracy                           0.26        85\n",
      "   macro avg       0.25      0.26      0.25        85\n",
      "weighted avg       0.25      0.26      0.25        85\n",
      "\n"
     ]
    }
   ],
   "source": [
    "# BoW + Decision Tree\n",
    "\n",
    "# Initialize the Decision Tree Classifier\n",
    "clf_tree = DecisionTreeClassifier()\n",
    "\n",
    "# Train the classifier using the training data\n",
    "clf_tree.fit(X_train_bow, y_train)\n",
    "\n",
    "# Predict on the validation set\n",
    "y_pred_tree = clf_tree.predict(X_valid_bow)\n",
    "\n",
    "# Evaluate the performance\n",
    "accuracy_tree = accuracy_score(y_valid, y_pred_tree)\n",
    "print(f\"Validation Accuracy: {accuracy_tree * 100:.2f}%\\n\")\n",
    "print(\"Classification Report:\")\n",
    "print(classification_report(y_valid, y_pred_tree))\n"
   ]
  },
  {
   "cell_type": "code",
   "execution_count": 12,
   "id": "ed92b3d0",
   "metadata": {},
   "outputs": [
    {
     "name": "stdout",
     "output_type": "stream",
     "text": [
      "Validation Accuracy: 25.88%\n",
      "\n",
      "Classification Report:\n",
      "              precision    recall  f1-score   support\n",
      "\n",
      "        fake       0.27      0.28      0.28        43\n",
      "        true       0.24      0.24      0.24        42\n",
      "\n",
      "    accuracy                           0.26        85\n",
      "   macro avg       0.26      0.26      0.26        85\n",
      "weighted avg       0.26      0.26      0.26        85\n",
      "\n"
     ]
    }
   ],
   "source": [
    "# BoW + Random Froest\n",
    "\n",
    "# Initialize the Random Forest Classifier\n",
    "clf_rf = RandomForestClassifier()\n",
    "\n",
    "# Train the classifier using the training data\n",
    "clf_rf.fit(X_train_bow, y_train)\n",
    "\n",
    "# Predict on the validation set\n",
    "y_pred_rf = clf_rf.predict(X_valid_bow)\n",
    "\n",
    "# Evaluate the performance\n",
    "accuracy_rf = accuracy_score(y_valid, y_pred_rf)\n",
    "print(f\"Validation Accuracy: {accuracy_rf * 100:.2f}%\\n\")\n",
    "print(\"Classification Report:\")\n",
    "print(classification_report(y_valid, y_pred_rf))\n"
   ]
  },
  {
   "cell_type": "code",
   "execution_count": 13,
   "id": "063ac099",
   "metadata": {},
   "outputs": [
    {
     "name": "stdout",
     "output_type": "stream",
     "text": [
      "Validation Accuracy for SVM with BoW: 24.71%\n",
      "\n",
      "Classification Report for SVM with BoW:\n",
      "              precision    recall  f1-score   support\n",
      "\n",
      "        fake       0.29      0.33      0.30        43\n",
      "        true       0.19      0.17      0.18        42\n",
      "\n",
      "    accuracy                           0.25        85\n",
      "   macro avg       0.24      0.25      0.24        85\n",
      "weighted avg       0.24      0.25      0.24        85\n",
      "\n"
     ]
    }
   ],
   "source": [
    "#BoW + SVM\n",
    "\n",
    "# Initialize the SVM Classifier\n",
    "clf_svm_bow = SVC(kernel='linear', probability=True)\n",
    "\n",
    "# Train the classifier using the BoW training data\n",
    "clf_svm_bow.fit(X_train_bow, y_train)\n",
    "\n",
    "# Predict on the validation set\n",
    "y_pred_svm_bow = clf_svm_bow.predict(X_valid_bow)\n",
    "\n",
    "# Evaluate the performance\n",
    "accuracy_svm_bow = accuracy_score(y_valid, y_pred_svm_bow)\n",
    "print(f\"Validation Accuracy for SVM with BoW: {accuracy_svm_bow * 100:.2f}%\\n\")\n",
    "print(\"Classification Report for SVM with BoW:\")\n",
    "print(classification_report(y_valid, y_pred_svm_bow))\n"
   ]
  },
  {
   "cell_type": "code",
   "execution_count": 14,
   "id": "bda0771a",
   "metadata": {},
   "outputs": [
    {
     "name": "stdout",
     "output_type": "stream",
     "text": [
      "Validation Accuracy for KNN with BoW: 50.59%\n",
      "\n",
      "Classification Report for KNN with BoW:\n",
      "              precision    recall  f1-score   support\n",
      "\n",
      "        fake       0.51      0.74      0.60        43\n",
      "        true       0.50      0.26      0.34        42\n",
      "\n",
      "    accuracy                           0.51        85\n",
      "   macro avg       0.50      0.50      0.47        85\n",
      "weighted avg       0.50      0.51      0.48        85\n",
      "\n"
     ]
    }
   ],
   "source": [
    "#BoW + KNN neighbours 5\n",
    "\n",
    "# Initialize the KNN Classifier\n",
    "clf_knn_bow = KNeighborsClassifier(n_neighbors=5)  # You can tune the 'n_neighbors' parameter\n",
    "\n",
    "# Train the classifier using the BoW training data\n",
    "clf_knn_bow.fit(X_train_bow, y_train)\n",
    "\n",
    "# Predict on the validation set\n",
    "y_pred_knn_bow = clf_knn_bow.predict(X_valid_bow)\n",
    "\n",
    "# Evaluate the performance\n",
    "accuracy_knn_bow = accuracy_score(y_valid, y_pred_knn_bow)\n",
    "print(f\"Validation Accuracy for KNN with BoW: {accuracy_knn_bow * 100:.2f}%\\n\")\n",
    "print(\"Classification Report for KNN with BoW:\")\n",
    "print(classification_report(y_valid, y_pred_knn_bow))\n"
   ]
  },
  {
   "cell_type": "code",
   "execution_count": 15,
   "id": "6d66daba",
   "metadata": {},
   "outputs": [],
   "source": [
    "#　TF-IDF\n",
    "\n",
    "# Initialize the TF-IDF vectorizer\n",
    "tfidf_vectorizer = TfidfVectorizer(max_features=5000, stop_words='english', ngram_range=(1,2))\n",
    "\n",
    "# Fit and transform the training data\n",
    "X_train_tfidf = tfidf_vectorizer.fit_transform(fnn_train['Statement'])\n",
    "\n",
    "# Transform the validation data\n",
    "X_valid_tfidf = tfidf_vectorizer.transform(fnn_valid['Statement'])\n"
   ]
  },
  {
   "cell_type": "code",
   "execution_count": 16,
   "id": "c49a6c34",
   "metadata": {},
   "outputs": [
    {
     "name": "stdout",
     "output_type": "stream",
     "text": [
      "Validation Accuracy: 24.71%\n",
      "\n",
      "Classification Report:\n",
      "              precision    recall  f1-score   support\n",
      "\n",
      "        fake       0.29      0.33      0.30        43\n",
      "        true       0.19      0.17      0.18        42\n",
      "\n",
      "    accuracy                           0.25        85\n",
      "   macro avg       0.24      0.25      0.24        85\n",
      "weighted avg       0.24      0.25      0.24        85\n",
      "\n"
     ]
    }
   ],
   "source": [
    "# TF-IDF + Decision Tree\n",
    "\n",
    "# Initialize the Decision Tree Classifier\n",
    "clf_tree_tfidf = DecisionTreeClassifier()\n",
    "\n",
    "# Train the classifier using the training data\n",
    "clf_tree_tfidf.fit(X_train_tfidf, y_train)\n",
    "\n",
    "# Predict on the validation set\n",
    "y_pred_tree_tfidf = clf_tree_tfidf.predict(X_valid_tfidf)\n",
    "\n",
    "# Evaluate the performance\n",
    "accuracy_tree_tfidf = accuracy_score(y_valid, y_pred_tree_tfidf)\n",
    "print(f\"Validation Accuracy: {accuracy_tree_tfidf * 100:.2f}%\\n\")\n",
    "print(\"Classification Report:\")\n",
    "print(classification_report(y_valid, y_pred_tree_tfidf))\n"
   ]
  },
  {
   "cell_type": "code",
   "execution_count": 17,
   "id": "60d46a6e",
   "metadata": {},
   "outputs": [
    {
     "name": "stdout",
     "output_type": "stream",
     "text": [
      "Validation Accuracy: 25.88%\n",
      "\n",
      "Classification Report:\n",
      "              precision    recall  f1-score   support\n",
      "\n",
      "        fake       0.28      0.30      0.29        43\n",
      "        true       0.23      0.21      0.22        42\n",
      "\n",
      "    accuracy                           0.26        85\n",
      "   macro avg       0.26      0.26      0.26        85\n",
      "weighted avg       0.26      0.26      0.26        85\n",
      "\n"
     ]
    }
   ],
   "source": [
    "# TF-IDF + random forest\n",
    "\n",
    "# Initialize the Random Forest Classifier\n",
    "clf_rf = RandomForestClassifier(n_estimators=100)\n",
    "\n",
    "# Train the classifier using the training data\n",
    "clf_rf.fit(X_train_tfidf, y_train)\n",
    "\n",
    "# Predict on the validation set\n",
    "y_pred_rf = clf_rf.predict(X_valid_tfidf)\n",
    "\n",
    "# Evaluate the performance\n",
    "accuracy_rf = accuracy_score(y_valid, y_pred_rf)\n",
    "print(f\"Validation Accuracy: {accuracy_rf * 100:.2f}%\\n\")\n",
    "print(\"Classification Report:\")\n",
    "print(classification_report(y_valid, y_pred_rf))\n"
   ]
  },
  {
   "cell_type": "code",
   "execution_count": 18,
   "id": "25907816",
   "metadata": {},
   "outputs": [
    {
     "name": "stdout",
     "output_type": "stream",
     "text": [
      "Validation Accuracy: 25.88%\n",
      "\n",
      "Classification Report:\n",
      "              precision    recall  f1-score   support\n",
      "\n",
      "        fake       0.24      0.21      0.22        43\n",
      "        true       0.28      0.31      0.29        42\n",
      "\n",
      "    accuracy                           0.26        85\n",
      "   macro avg       0.26      0.26      0.26        85\n",
      "weighted avg       0.26      0.26      0.26        85\n",
      "\n"
     ]
    }
   ],
   "source": [
    "# TF-IDF + SVM\n",
    "\n",
    "# Initialize the SVC classifier with a linear kernel\n",
    "clf_svc = SVC(kernel='linear')\n",
    "\n",
    "# Train the classifier using the training data\n",
    "clf_svc.fit(X_train_tfidf, y_train)\n",
    "\n",
    "# Predict on the validation set\n",
    "y_pred_svc = clf_svc.predict(X_valid_tfidf)\n",
    "\n",
    "# Evaluate the performance\n",
    "accuracy_svc = accuracy_score(y_valid, y_pred_svc)\n",
    "print(f\"Validation Accuracy: {accuracy_svc * 100:.2f}%\\n\")\n",
    "print(\"Classification Report:\")\n",
    "print(classification_report(y_valid, y_pred_svc))\n"
   ]
  },
  {
   "cell_type": "code",
   "execution_count": 19,
   "id": "5f358b84",
   "metadata": {},
   "outputs": [
    {
     "name": "stdout",
     "output_type": "stream",
     "text": [
      "Validation Accuracy: 41.18%\n",
      "\n",
      "Classification Report:\n",
      "              precision    recall  f1-score   support\n",
      "\n",
      "        fake       0.37      0.23      0.29        43\n",
      "        true       0.43      0.60      0.50        42\n",
      "\n",
      "    accuracy                           0.41        85\n",
      "   macro avg       0.40      0.41      0.39        85\n",
      "weighted avg       0.40      0.41      0.39        85\n",
      "\n"
     ]
    }
   ],
   "source": [
    "# TF-IDF with KNN neighbours 5 \n",
    "\n",
    "# Initialize the KNN classifier\n",
    "# You can tune the number of neighbors (n_neighbors parameter) as needed.\n",
    "clf_knn = KNeighborsClassifier(n_neighbors=5)\n",
    "\n",
    "# Train the classifier using the training data\n",
    "clf_knn.fit(X_train_tfidf, y_train)\n",
    "\n",
    "# Predict on the validation set\n",
    "y_pred_knn = clf_knn.predict(X_valid_tfidf)\n",
    "\n",
    "# Evaluate the performance\n",
    "accuracy_knn = accuracy_score(y_valid, y_pred_knn)\n",
    "print(f\"Validation Accuracy: {accuracy_knn * 100:.2f}%\\n\")\n",
    "print(\"Classification Report:\")\n",
    "print(classification_report(y_valid, y_pred_knn))\n"
   ]
  },
  {
   "cell_type": "code",
   "execution_count": 20,
   "id": "2a983786",
   "metadata": {},
   "outputs": [],
   "source": [
    "# N-gram representation\n",
    "\n",
    "# Initialize CountVectorizer with ngram range for unigrams and bigrams\n",
    "vectorizer = CountVectorizer(ngram_range=(1, 2))\n",
    "\n",
    "# Fit and transform the training data\n",
    "X_train_ngram = vectorizer.fit_transform(fnn_train['Statement'])\n",
    "\n",
    "# Transform the validation data\n",
    "X_valid_ngram = vectorizer.transform(fnn_valid['Statement'])\n",
    "\n",
    "# Now you can train your models on the X_train_ngram and evaluate on X_valid_ngram\n"
   ]
  },
  {
   "cell_type": "code",
   "execution_count": 21,
   "id": "bdcf21fb",
   "metadata": {},
   "outputs": [
    {
     "name": "stdout",
     "output_type": "stream",
     "text": [
      "Validation Accuracy using n-grams: 23.53%\n",
      "\n",
      "Classification Report for n-grams:\n",
      "              precision    recall  f1-score   support\n",
      "\n",
      "        fake       0.27      0.30      0.29        43\n",
      "        true       0.19      0.17      0.18        42\n",
      "\n",
      "    accuracy                           0.24        85\n",
      "   macro avg       0.23      0.23      0.23        85\n",
      "weighted avg       0.23      0.24      0.23        85\n",
      "\n"
     ]
    }
   ],
   "source": [
    "# N-gram + Decision Tree\n",
    "\n",
    "# Initialize the Decision Tree Classifier\n",
    "clf_tree_ngram = DecisionTreeClassifier()\n",
    "\n",
    "# Train the classifier using the n-gram training data\n",
    "clf_tree_ngram.fit(X_train_ngram, y_train)\n",
    "\n",
    "# Predict on the validation set\n",
    "y_pred_tree_ngram = clf_tree_ngram.predict(X_valid_ngram)\n",
    "\n",
    "# Evaluate the performance\n",
    "accuracy_tree_ngram = accuracy_score(y_valid, y_pred_tree_ngram)\n",
    "print(f\"Validation Accuracy using n-grams: {accuracy_tree_ngram * 100:.2f}%\\n\")\n",
    "print(\"Classification Report for n-grams:\")\n",
    "print(classification_report(y_valid, y_pred_tree_ngram))\n"
   ]
  },
  {
   "cell_type": "code",
   "execution_count": 22,
   "id": "6ed35e82",
   "metadata": {},
   "outputs": [
    {
     "name": "stdout",
     "output_type": "stream",
     "text": [
      "Validation Accuracy using n-grams with Random Forest: 27.06%\n",
      "\n",
      "Classification Report for n-grams with Random Forest:\n",
      "              precision    recall  f1-score   support\n",
      "\n",
      "        fake       0.31      0.37      0.34        43\n",
      "        true       0.21      0.17      0.18        42\n",
      "\n",
      "    accuracy                           0.27        85\n",
      "   macro avg       0.26      0.27      0.26        85\n",
      "weighted avg       0.26      0.27      0.26        85\n",
      "\n"
     ]
    }
   ],
   "source": [
    "# N-gram + random forest\n",
    "\n",
    "# Initialize the Random Forest Classifier\n",
    "clf_rf_ngram = RandomForestClassifier()\n",
    "\n",
    "# Train the classifier using the n-gram training data\n",
    "clf_rf_ngram.fit(X_train_ngram, y_train)\n",
    "\n",
    "# Predict on the validation set\n",
    "y_pred_rf_ngram = clf_rf_ngram.predict(X_valid_ngram)\n",
    "\n",
    "# Evaluate the performance\n",
    "accuracy_rf_ngram = accuracy_score(y_valid, y_pred_rf_ngram)\n",
    "print(f\"Validation Accuracy using n-grams with Random Forest: {accuracy_rf_ngram * 100:.2f}%\\n\")\n",
    "print(\"Classification Report for n-grams with Random Forest:\")\n",
    "print(classification_report(y_valid, y_pred_rf_ngram))\n"
   ]
  },
  {
   "cell_type": "code",
   "execution_count": 23,
   "id": "f3e6448b",
   "metadata": {},
   "outputs": [
    {
     "name": "stdout",
     "output_type": "stream",
     "text": [
      "Validation Accuracy using n-grams with SVM: 24.71%\n",
      "\n",
      "Classification Report for n-grams with SVM:\n",
      "              precision    recall  f1-score   support\n",
      "\n",
      "        fake       0.29      0.33      0.30        43\n",
      "        true       0.19      0.17      0.18        42\n",
      "\n",
      "    accuracy                           0.25        85\n",
      "   macro avg       0.24      0.25      0.24        85\n",
      "weighted avg       0.24      0.25      0.24        85\n",
      "\n"
     ]
    }
   ],
   "source": [
    "# N-gram + SVM\n",
    "\n",
    "# Initialize the SVM classifier with a linear kernel\n",
    "clf_svm_ngram = SVC(kernel='linear')\n",
    "\n",
    "# Train the classifier using the n-gram training data\n",
    "clf_svm_ngram.fit(X_train_ngram, y_train)\n",
    "\n",
    "# Predict on the validation set\n",
    "y_pred_svm_ngram = clf_svm_ngram.predict(X_valid_ngram)\n",
    "\n",
    "# Evaluate the performance\n",
    "accuracy_svm_ngram = accuracy_score(y_valid, y_pred_svm_ngram)\n",
    "print(f\"Validation Accuracy using n-grams with SVM: {accuracy_svm_ngram * 100:.2f}%\\n\")\n",
    "print(\"Classification Report for n-grams with SVM:\")\n",
    "print(classification_report(y_valid, y_pred_svm_ngram))\n"
   ]
  },
  {
   "cell_type": "code",
   "execution_count": 24,
   "id": "827f2885",
   "metadata": {},
   "outputs": [
    {
     "name": "stdout",
     "output_type": "stream",
     "text": [
      "Validation Accuracy using n-grams with KNN: 48.24%\n",
      "\n",
      "Classification Report for n-grams with KNN:\n",
      "              precision    recall  f1-score   support\n",
      "\n",
      "        fake       0.49      0.81      0.61        43\n",
      "        true       0.43      0.14      0.21        42\n",
      "\n",
      "    accuracy                           0.48        85\n",
      "   macro avg       0.46      0.48      0.41        85\n",
      "weighted avg       0.46      0.48      0.42        85\n",
      "\n"
     ]
    }
   ],
   "source": [
    "# N-gram + k-NN n=5\n",
    "\n",
    "# Initialize the KNN classifier with 5 neighbors\n",
    "clf_knn_ngram = KNeighborsClassifier(n_neighbors=5)\n",
    "\n",
    "# Train the classifier using the n-gram training data\n",
    "clf_knn_ngram.fit(X_train_ngram, y_train)\n",
    "\n",
    "# Predict on the validation set\n",
    "y_pred_knn_ngram = clf_knn_ngram.predict(X_valid_ngram)\n",
    "\n",
    "# Evaluate the performance\n",
    "accuracy_knn_ngram = accuracy_score(y_valid, y_pred_knn_ngram)\n",
    "print(f\"Validation Accuracy using n-grams with KNN: {accuracy_knn_ngram * 100:.2f}%\\n\")\n",
    "print(\"Classification Report for n-grams with KNN:\")\n",
    "print(classification_report(y_valid, y_pred_knn_ngram))\n"
   ]
  },
  {
   "cell_type": "code",
   "execution_count": 25,
   "id": "62f95eb4",
   "metadata": {},
   "outputs": [],
   "source": [
    "# Doc2Vec\n",
    "\n",
    "articles_tokenized = [word_tokenize(article.lower()) for article in fnn_train['Statement']]\n",
    "\n",
    "tagged_data = [TaggedDocument(words=words, tags=[str(i)]) for i, words in enumerate(articles_tokenized)]\n",
    "\n",
    "model = Doc2Vec(vector_size=20, window=2, min_count=1, workers=4, epochs=100)\n",
    "model.build_vocab(tagged_data)\n",
    "model.train(tagged_data, total_examples=model.corpus_count, epochs=model.epochs)\n",
    "\n",
    "# Get vector for the first document as an example\n",
    "vector = model.infer_vector(articles_tokenized[0])\n",
    "\n",
    "# Transform the training statements into vectors\n",
    "X_train_d2v = [model.infer_vector(words) for words in articles_tokenized]\n",
    "\n",
    "# Transform the validation statements into vectors\n",
    "statements_tokenized_valid = [word_tokenize(statement.lower()) for statement in fnn_valid['Statement']]\n",
    "X_valid_d2v = [model.infer_vector(words) for words in statements_tokenized_valid]"
   ]
  },
  {
   "cell_type": "code",
   "execution_count": 26,
   "id": "016dc5cf",
   "metadata": {},
   "outputs": [
    {
     "name": "stdout",
     "output_type": "stream",
     "text": [
      "Validation Accuracy: 29.41%\n",
      "\n",
      "Classification Report:\n",
      "              precision    recall  f1-score   support\n",
      "\n",
      "        fake       0.27      0.23      0.25        43\n",
      "        true       0.31      0.36      0.33        42\n",
      "\n",
      "    accuracy                           0.29        85\n",
      "   macro avg       0.29      0.29      0.29        85\n",
      "weighted avg       0.29      0.29      0.29        85\n",
      "\n"
     ]
    }
   ],
   "source": [
    "# Doc2Vec + Decision Trees\n",
    "\n",
    "# Initialize the DecisionTree classifier\n",
    "clf_dt = DecisionTreeClassifier(random_state=0)\n",
    "\n",
    "# Train the classifier using the training data\n",
    "clf_dt.fit(X_train_d2v, y_train)\n",
    "\n",
    "# Predict on the validation set\n",
    "y_pred_dt = clf_dt.predict(X_valid_d2v)\n",
    "\n",
    "# Evaluate the performance\n",
    "accuracy_dt = accuracy_score(y_valid, y_pred_dt)\n",
    "print(f\"Validation Accuracy: {accuracy_dt * 100:.2f}%\\n\")\n",
    "print(\"Classification Report:\")\n",
    "print(classification_report(y_valid, y_pred_dt))"
   ]
  },
  {
   "cell_type": "code",
   "execution_count": 27,
   "id": "c7275c05",
   "metadata": {},
   "outputs": [
    {
     "name": "stdout",
     "output_type": "stream",
     "text": [
      "Validation Accuracy: 27.06%\n",
      "\n",
      "Classification Report:\n",
      "              precision    recall  f1-score   support\n",
      "\n",
      "        fake       0.32      0.40      0.35        43\n",
      "        true       0.19      0.14      0.16        42\n",
      "\n",
      "    accuracy                           0.27        85\n",
      "   macro avg       0.25      0.27      0.26        85\n",
      "weighted avg       0.25      0.27      0.26        85\n",
      "\n"
     ]
    }
   ],
   "source": [
    "# Doc2Vec + Random Forest\n",
    "\n",
    "# Initialize the RandomForest classifier\n",
    "clf_rf = RandomForestClassifier(n_estimators=100, random_state=0)\n",
    "\n",
    "# Train the classifier using the training data\n",
    "clf_rf.fit(X_train_d2v, y_train)\n",
    "\n",
    "# Predict on the validation set\n",
    "y_pred_rf = clf_rf.predict(X_valid_d2v)\n",
    "\n",
    "# Evaluate the performance\n",
    "accuracy_rf = accuracy_score(y_valid, y_pred_rf)\n",
    "print(f\"Validation Accuracy: {accuracy_rf * 100:.2f}%\\n\")\n",
    "print(\"Classification Report:\")\n",
    "print(classification_report(y_valid, y_pred_rf))\n"
   ]
  },
  {
   "cell_type": "code",
   "execution_count": 28,
   "id": "55ef3aef",
   "metadata": {},
   "outputs": [
    {
     "name": "stdout",
     "output_type": "stream",
     "text": [
      "Validation Accuracy: 44.71%\n",
      "\n",
      "Classification Report:\n",
      "              precision    recall  f1-score   support\n",
      "\n",
      "        fake       0.45      0.42      0.43        43\n",
      "        true       0.44      0.48      0.46        42\n",
      "\n",
      "    accuracy                           0.45        85\n",
      "   macro avg       0.45      0.45      0.45        85\n",
      "weighted avg       0.45      0.45      0.45        85\n",
      "\n"
     ]
    }
   ],
   "source": [
    "# Doc2Vec + SVM\n",
    "\n",
    "# Initialize the SVM classifier with a linear kernel\n",
    "clf_svm = SVC(kernel='linear')\n",
    "\n",
    "# Train the classifier using the training data\n",
    "clf_svm.fit(X_train_d2v, y_train)\n",
    "\n",
    "# Predict on the validation set\n",
    "y_pred_svm = clf_svm.predict(X_valid_d2v)\n",
    "\n",
    "# Evaluate the performance\n",
    "accuracy_svm = accuracy_score(y_valid, y_pred_svm)\n",
    "print(f\"Validation Accuracy: {accuracy_svm * 100:.2f}%\\n\")\n",
    "print(\"Classification Report:\")\n",
    "print(classification_report(y_valid, y_pred_svm))\n"
   ]
  },
  {
   "cell_type": "code",
   "execution_count": 29,
   "id": "15722c83",
   "metadata": {},
   "outputs": [
    {
     "name": "stdout",
     "output_type": "stream",
     "text": [
      "Validation Accuracy: 45.88%\n",
      "\n",
      "Classification Report:\n",
      "              precision    recall  f1-score   support\n",
      "\n",
      "        fake       0.47      0.56      0.51        43\n",
      "        true       0.44      0.36      0.39        42\n",
      "\n",
      "    accuracy                           0.46        85\n",
      "   macro avg       0.46      0.46      0.45        85\n",
      "weighted avg       0.46      0.46      0.45        85\n",
      "\n"
     ]
    }
   ],
   "source": [
    "# Doc2Vec + k-NN n=5\n",
    "\n",
    "# Initialize the KNN classifier with 5 neighbors\n",
    "clf_knn = KNeighborsClassifier(n_neighbors=5)\n",
    "\n",
    "# Train the classifier using the training data\n",
    "clf_knn.fit(X_train_d2v, y_train)\n",
    "\n",
    "# Predict on the validation set\n",
    "y_pred_knn = clf_knn.predict(X_valid_d2v)\n",
    "\n",
    "# Evaluate the performance\n",
    "accuracy_knn = accuracy_score(y_valid, y_pred_knn)\n",
    "print(f\"Validation Accuracy: {accuracy_knn * 100:.2f}%\\n\")\n",
    "print(\"Classification Report:\")\n",
    "print(classification_report(y_valid, y_pred_knn))\n"
   ]
  }
 ],
 "metadata": {
  "kernelspec": {
   "display_name": "Python 3 (ipykernel)",
   "language": "python",
   "name": "python3"
  },
  "language_info": {
   "codemirror_mode": {
    "name": "ipython",
    "version": 3
   },
   "file_extension": ".py",
   "mimetype": "text/x-python",
   "name": "python",
   "nbconvert_exporter": "python",
   "pygments_lexer": "ipython3",
   "version": "3.9.7"
  }
 },
 "nbformat": 4,
 "nbformat_minor": 5
}
